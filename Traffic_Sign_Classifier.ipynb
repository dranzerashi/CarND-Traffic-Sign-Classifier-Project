{
 "cells": [
  {
   "cell_type": "markdown",
   "metadata": {},
   "source": [
    "# Self-Driving Car Engineer Nanodegree\n",
    "\n",
    "## Deep Learning\n",
    "\n",
    "## Project: Build a Traffic Sign Recognition Classifier\n",
    "\n",
    "In this notebook, a template is provided for you to implement your functionality in stages, which is required to successfully complete this project. If additional code is required that cannot be included in the notebook, be sure that the Python code is successfully imported and included in your submission if necessary. \n",
    "\n",
    "> **Note**: Once you have completed all of the code implementations, you need to finalize your work by exporting the iPython Notebook as an HTML document. Before exporting the notebook to html, all of the code cells need to have been run so that reviewers can see the final implementation and output. You can then export the notebook by using the menu above and navigating to  \\n\",\n",
    "    \"**File -> Download as -> HTML (.html)**. Include the finished document along with this notebook as your submission. \n",
    "\n",
    "In addition to implementing code, there is a writeup to complete. The writeup should be completed in a separate file, which can be either a markdown file or a pdf document. There is a [write up template](https://github.com/udacity/CarND-Traffic-Sign-Classifier-Project/blob/master/writeup_template.md) that can be used to guide the writing process. Completing the code template and writeup template will cover all of the [rubric points](https://review.udacity.com/#!/rubrics/481/view) for this project.\n",
    "\n",
    "The [rubric](https://review.udacity.com/#!/rubrics/481/view) contains \"Stand Out Suggestions\" for enhancing the project beyond the minimum requirements. The stand out suggestions are optional. If you decide to pursue the \"stand out suggestions\", you can include the code in this Ipython notebook and also discuss the results in the writeup file.\n",
    "\n",
    "\n",
    ">**Note:** Code and Markdown cells can be executed using the **Shift + Enter** keyboard shortcut. In addition, Markdown cells can be edited by typically double-clicking the cell to enter edit mode."
   ]
  },
  {
   "cell_type": "markdown",
   "metadata": {},
   "source": [
    "---\n",
    "## Step 0: Load The Data"
   ]
  },
  {
   "cell_type": "markdown",
   "metadata": {},
   "source": [
    "### Imports"
   ]
  },
  {
   "cell_type": "code",
   "execution_count": 1,
   "metadata": {},
   "outputs": [
    {
     "name": "stdout",
     "output_type": "stream",
     "text": [
      "All modules imported.\n"
     ]
    }
   ],
   "source": [
    "import hashlib\n",
    "import os\n",
    "import pickle\n",
    "from urllib.request import urlretrieve\n",
    "import random\n",
    "\n",
    "import numpy as np\n",
    "from PIL import Image\n",
    "from sklearn.model_selection import train_test_split\n",
    "from sklearn.preprocessing import LabelBinarizer\n",
    "from sklearn.utils import resample\n",
    "\n",
    "from zipfile import ZipFile\n",
    "\n",
    "print('All modules imported.')"
   ]
  },
  {
   "cell_type": "markdown",
   "metadata": {},
   "source": [
    "### Download the training data zip"
   ]
  },
  {
   "cell_type": "code",
   "execution_count": 2,
   "metadata": {},
   "outputs": [
    {
     "name": "stdout",
     "output_type": "stream",
     "text": [
      "downloaded\n"
     ]
    }
   ],
   "source": [
    "import tensorflow as tf\n",
    "\n",
    "def download(url, file):\n",
    "    \"\"\"\n",
    "    Download file from <url>\n",
    "    :param url: URL to file\n",
    "    :param file: Local file path\n",
    "    \"\"\"\n",
    "    if not os.path.isfile(file):\n",
    "        print('Downloading ' + file + '...')\n",
    "        urlretrieve(url, file)\n",
    "        print('Download Finished')\n",
    "\n",
    "download('https://d17h27t6h515a5.cloudfront.net/topher/2017/February/5898cd6f_traffic-signs-data/traffic-signs-data.zip', 'traffic-signs-data.zip')\n",
    "print(\"downloaded\")\n"
   ]
  },
  {
   "cell_type": "markdown",
   "metadata": {},
   "source": [
    "### Extract the files to a folder"
   ]
  },
  {
   "cell_type": "code",
   "execution_count": 3,
   "metadata": {},
   "outputs": [
    {
     "data": {
      "text/plain": [
       "['train.p', 'valid.p', 'test.p']"
      ]
     },
     "execution_count": 3,
     "metadata": {},
     "output_type": "execute_result"
    }
   ],
   "source": [
    "def uncompress_files(file):\n",
    "    \"\"\"\n",
    "    Uncompress features and labels from a zip file\n",
    "    :param file: The zip file to extract the data from\n",
    "    \"\"\"\n",
    "    with ZipFile(file) as zipf:\n",
    "        zipf.extractall('traindata')\n",
    "uncompress_files('traffic-signs-data.zip')\n",
    "os.listdir('traindata')\n"
   ]
  },
  {
   "cell_type": "code",
   "execution_count": 36,
   "metadata": {
    "collapsed": true
   },
   "outputs": [],
   "source": [
    "# Load pickled data\n",
    "import pickle\n",
    "\n",
    "# TODO: Fill this in based on where you saved the training and testing data\n",
    "\n",
    "training_file = 'traindata/train.p'\n",
    "validation_file='traindata/valid.p'\n",
    "testing_file = 'traindata/test.p'\n",
    "\n",
    "with open(training_file, mode='rb') as f:\n",
    "    train = pickle.load(f)\n",
    "with open(validation_file, mode='rb') as f:\n",
    "    valid = pickle.load(f)\n",
    "with open(testing_file, mode='rb') as f:\n",
    "    test = pickle.load(f)\n",
    "    \n",
    "X_train, y_train = train['features'], train['labels']\n",
    "X_valid, y_valid = valid['features'], valid['labels']\n",
    "X_test, y_test = test['features'], test['labels']"
   ]
  },
  {
   "cell_type": "markdown",
   "metadata": {},
   "source": [
    "---\n",
    "\n",
    "## Step 1: Dataset Summary & Exploration\n",
    "\n",
    "The pickled data is a dictionary with 4 key/value pairs:\n",
    "\n",
    "- `'features'` is a 4D array containing raw pixel data of the traffic sign images, (num examples, width, height, channels).\n",
    "- `'labels'` is a 1D array containing the label/class id of the traffic sign. The file `signnames.csv` contains id -> name mappings for each id.\n",
    "- `'sizes'` is a list containing tuples, (width, height) representing the original width and height the image.\n",
    "- `'coords'` is a list containing tuples, (x1, y1, x2, y2) representing coordinates of a bounding box around the sign in the image. **THESE COORDINATES ASSUME THE ORIGINAL IMAGE. THE PICKLED DATA CONTAINS RESIZED VERSIONS (32 by 32) OF THESE IMAGES**\n",
    "\n",
    "Complete the basic data summary below. Use python, numpy and/or pandas methods to calculate the data summary rather than hard coding the results. For example, the [pandas shape method](http://pandas.pydata.org/pandas-docs/stable/generated/pandas.DataFrame.shape.html) might be useful for calculating some of the summary results. "
   ]
  },
  {
   "cell_type": "markdown",
   "metadata": {},
   "source": [
    "### Provide a Basic Summary of the Data Set Using Python, Numpy and/or Pandas"
   ]
  },
  {
   "cell_type": "code",
   "execution_count": 37,
   "metadata": {},
   "outputs": [
    {
     "name": "stdout",
     "output_type": "stream",
     "text": [
      "Number of training examples = 34799\n",
      "Number of validation examples = 4410\n",
      "Number of testing examples = 12630\n",
      "Image data shape = (32, 32, 3)\n",
      "Number of classes = 43\n"
     ]
    }
   ],
   "source": [
    "### Replace each question mark with the appropriate value. \n",
    "### Use python, pandas or numpy methods rather than hard coding the results\n",
    "\n",
    "# TODO: Number of training examples\n",
    "n_train = len(X_train)\n",
    "\n",
    "# TODO: Number of validation examples\n",
    "n_validation = len(X_valid)\n",
    "\n",
    "# TODO: Number of testing examples.\n",
    "n_test = len(X_test)\n",
    "\n",
    "# TODO: What's the shape of an traffic sign image?\n",
    "image_shape = X_train[0].shape\n",
    "\n",
    "# TODO: How many unique classes/labels there are in the dataset.\n",
    "n_classes = len(set(y_train))\n",
    "\n",
    "print(\"Number of training examples =\", n_train)\n",
    "print(\"Number of validation examples =\", n_validation)\n",
    "print(\"Number of testing examples =\", n_test)\n",
    "print(\"Image data shape =\", image_shape)\n",
    "print(\"Number of classes =\", n_classes)"
   ]
  },
  {
   "cell_type": "markdown",
   "metadata": {},
   "source": [
    "### Include an exploratory visualization of the dataset"
   ]
  },
  {
   "cell_type": "markdown",
   "metadata": {},
   "source": [
    "Visualize the German Traffic Signs Dataset using the pickled file(s). This is open ended, suggestions include: plotting traffic sign images, plotting the count of each sign, etc. \n",
    "\n",
    "The [Matplotlib](http://matplotlib.org/) [examples](http://matplotlib.org/examples/index.html) and [gallery](http://matplotlib.org/gallery.html) pages are a great resource for doing visualizations in Python.\n",
    "\n",
    "**NOTE:** It's recommended you start with something simple first. If you wish to do more, come back to it after you've completed the rest of the sections. It can be interesting to look at the distribution of classes in the training, validation and test set. Is the distribution the same? Are there more examples of some classes than others?"
   ]
  },
  {
   "cell_type": "code",
   "execution_count": 6,
   "metadata": {},
   "outputs": [
    {
     "data": {
      "text/plain": [
       "<Container object of 43 artists>"
      ]
     },
     "execution_count": 6,
     "metadata": {},
     "output_type": "execute_result"
    },
    {
     "data": {
      "image/png": "[encoded data removed]",
      "text/plain": [
       "<matplotlib.figure.Figure at 0x7f998629f3c8>"
      ]
     },
     "metadata": {},
     "output_type": "display_data"
    }
   ],
   "source": [
    "### Data exploration visualization code goes here.\n",
    "### Feel free to use as many code cells as needed.\n",
    "import matplotlib.pyplot as plt\n",
    "# Visualizations will be shown in the notebook.\n",
    "%matplotlib inline\n",
    "\n",
    "class_count = {}\n",
    "\n",
    "for label in y_train.tolist():\n",
    "    class_count[label] = class_count.get(label, 0) + 1\n",
    "\n",
    "plt.bar(list(class_count.keys()), class_count.values(), 1, color='b')"
   ]
  },
  {
   "cell_type": "markdown",
   "metadata": {},
   "source": [
    "----\n",
    "\n",
    "## Step 2: Design and Test a Model Architecture\n",
    "\n",
    "Design and implement a deep learning model that learns to recognize traffic signs. Train and test your model on the [German Traffic Sign Dataset](http://benchmark.ini.rub.de/?section=gtsrb&subsection=dataset).\n",
    "\n",
    "The LeNet-5 implementation shown in the [classroom](https://classroom.udacity.com/nanodegrees/nd013/parts/fbf77062-5703-404e-b60c-95b78b2f3f9e/modules/6df7ae49-c61c-4bb2-a23e-6527e69209ec/lessons/601ae704-1035-4287-8b11-e2c2716217ad/concepts/d4aca031-508f-4e0b-b493-e7b706120f81) at the end of the CNN lesson is a solid starting point. You'll have to change the number of classes and possibly the preprocessing, but aside from that it's plug and play! \n",
    "\n",
    "With the LeNet-5 solution from the lecture, you should expect a validation set accuracy of about 0.89. To meet specifications, the validation set accuracy will need to be at least 0.93. It is possible to get an even higher accuracy, but 0.93 is the minimum for a successful project submission. \n",
    "\n",
    "There are various aspects to consider when thinking about this problem:\n",
    "\n",
    "- Neural network architecture (is the network over or underfitting?)\n",
    "- Play around preprocessing techniques (normalization, rgb to grayscale, etc)\n",
    "- Number of examples per label (some have more than others).\n",
    "- Generate fake data.\n",
    "\n",
    "Here is an example of a [published baseline model on this problem](http://yann.lecun.com/exdb/publis/pdf/sermanet-ijcnn-11.pdf). It's not required to be familiar with the approach used in the paper but, it's good practice to try to read papers like these."
   ]
  },
  {
   "cell_type": "markdown",
   "metadata": {},
   "source": [
    "### Pre-process the Data Set (normalization, grayscale, etc.)"
   ]
  },
  {
   "cell_type": "markdown",
   "metadata": {},
   "source": [
    "Minimally, the image data should be normalized so that the data has mean zero and equal variance. For image data, `(pixel - 128)/ 128` is a quick way to approximately normalize the data and can be used in this project. \n",
    "\n",
    "Other pre-processing steps are optional. You can try different techniques to see if it improves performance. \n",
    "\n",
    "Use the code cell (or multiple code cells, if necessary) to implement the first step of your project."
   ]
  },
  {
   "cell_type": "markdown",
   "metadata": {},
   "source": [
    "#### run the following command for cv2\n",
    "```\n",
    "apt-get -qq install -y libsm6 libxext6 && pip install -q -U opencv-python \n",
    "```"
   ]
  },
  {
   "cell_type": "code",
   "execution_count": 7,
   "metadata": {
    "collapsed": true
   },
   "outputs": [],
   "source": [
    "### Preprocess the data here. It is required to normalize the data. Other preprocessing steps could include \n",
    "### converting to grayscale, etc.\n",
    "### Feel free to use as many code cells as needed.\n",
    "import cv2\n",
    "def addHsv(x):\n",
    "    return np.array([np.dstack((i,cv2.cvtColor(i,cv2.COLOR_RGB2HSV))) for i in x])\n",
    "\n",
    "def toHsv(x):\n",
    "    return np.array([cv2.cvtColor(i,cv2.COLOR_RGB2HSV) for i in x])\n",
    "\n",
    "def translateImg(x,pX,pY):\n",
    "    M = np.float32([[1,0,x.shape[0]*pX],[0,1,x.shape[0]*pY]])\n",
    "    res = cv2.warpAffine(x,M,(x.shape[0],x.shape[1]))\n",
    "    return res\n",
    "\n",
    "def rotateImg(x,theta):\n",
    "    cols = x.shape[0]\n",
    "    rows = x.shape[1]\n",
    "    M = cv2.getRotationMatrix2D((cols/2,rows/2),theta,1)#random.uniform(0.999,1.001))\n",
    "    res = cv2.warpAffine(x,M,(cols,rows))\n",
    "    return res\n",
    "\n",
    "def normalize_img(image_data):\n",
    "    return (image_data / 128) - 1 \n",
    "  \n"
   ]
  },
  {
   "cell_type": "markdown",
   "metadata": {},
   "source": [
    "#### Image augumentation and Normalization\n",
    "using translation and rotation for classes with low number of images using cv2 libary is done to increase performance for those classes. This is followed by Normalaziation of the image to range -1 to 1 using the normalize_image function declared above."
   ]
  },
  {
   "cell_type": "code",
   "execution_count": 47,
   "metadata": {},
   "outputs": [
    {
     "data": {
      "text/plain": [
       "<matplotlib.image.AxesImage at 0x7f99853f3f98>"
      ]
     },
     "execution_count": 47,
     "metadata": {},
     "output_type": "execute_result"
    },
    {
     "data": {
      "image/png": "[encoded data removed]",
      "text/plain": [
       "<matplotlib.figure.Figure at 0x7f9960418550>"
      ]
     },
     "metadata": {},
     "output_type": "display_data"
    }
   ],
   "source": [
    "img = rotateImg(translateImg(X_test[0],random.uniform(-0.05,0.05),random.uniform(-0.05,0.05)),random.uniform(-8,8))\n",
    "fig = plt.figure()\n",
    "ax1 = fig.add_subplot(1,2,1)\n",
    "ax1.imshow(X_test[0])\n",
    "ax2 = fig.add_subplot(1,2,2)\n",
    "ax2.imshow(img)"
   ]
  },
  {
   "cell_type": "code",
   "execution_count": 8,
   "metadata": {},
   "outputs": [
    {
     "name": "stdout",
     "output_type": "stream",
     "text": [
      "-0.1328125 -1.0\n"
     ]
    }
   ],
   "source": [
    "aug_img = []\n",
    "aug_lbl = []\n",
    "for _ in range(3):\n",
    "    for x,l in zip(X_train, y_train):\n",
    "        if class_count[l] < 1500:\n",
    "            aug_img.append(translateImg(x,random.uniform(-0.05,0.05),random.uniform(-0.05,0.05)))\n",
    "            aug_img.append(rotateImg(translateImg(x,random.uniform(-0.05,0.05),random.uniform(-0.05,0.05)),random.uniform(-8,8)))\n",
    "            aug_img.append(rotateImg(x,random.uniform(-8,8)))\n",
    "            aug_lbl.append(l)\n",
    "            aug_lbl.append(l)\n",
    "            aug_lbl.append(l)\n",
    "            class_count[l]+=3\n",
    "    \n",
    "for x,l in zip(X_train, y_train):\n",
    "    aug_img.append(x)\n",
    "    aug_lbl.append(l)\n",
    "\n",
    "X_train = np.array(aug_img)\n",
    "y_train = np.array(aug_lbl)\n",
    "aug_img = None\n",
    "aug_lbl = None\n",
    "# X_train = toHsv(X_train)\n",
    "# X_valid = toHsv(X_valid)\n",
    "# X_test = toHsv(X_test)\n",
    "\n",
    "X_train = normalize_img(X_train)\n",
    "X_valid = normalize_img(X_valid)\n",
    "X_test = normalize_img(X_test)\n",
    "print(max(X_train[0].flatten()),min(X_train[0].flatten()))"
   ]
  },
  {
   "cell_type": "markdown",
   "metadata": {},
   "source": [
    "### Model Architecture"
   ]
  },
  {
   "cell_type": "code",
   "execution_count": 9,
   "metadata": {
    "collapsed": true
   },
   "outputs": [],
   "source": [
    "### Define your architecture here.\n",
    "### Feel free to use as many code cells as needed.\n",
    "import random\n",
    "import numpy as np\n",
    "\n",
    "from sklearn.utils import shuffle\n",
    "\n",
    "X_train, y_train = shuffle(X_train, y_train)\n",
    "\n",
    "import tensorflow as tf\n",
    "\n",
    "EPOCHS = 50\n",
    "BATCH_SIZE = 128\n",
    "KEEP_PROB = 0.55\n"
   ]
  },
  {
   "cell_type": "code",
   "execution_count": 10,
   "metadata": {
    "collapsed": true
   },
   "outputs": [],
   "source": [
    "from tensorflow.contrib.layers import flatten\n",
    "def LeNet(x):\n",
    "    # Arguments used for tf.truncated_normal, randomly defines variables for the weights and biases for each layer\n",
    "    mu = 0\n",
    "    sigma = 0.1\n",
    "    \n",
    "    #Layer 1: Convolutional. Input = 32x32x3. Output = 32x32x3.\n",
    "    FilterWeight1p = tf.Variable(tf.truncated_normal((1,1,3,3),mu,sigma))\n",
    "    FilterBias1p = tf.Variable(tf.zeros(3))\n",
    "    strides=[1,1,1,1]\n",
    "    padding=\"VALID\"\n",
    "    conv1p = tf.nn.conv2d(x, FilterWeight1p, strides, padding)\n",
    "    conv1p = tf.nn.bias_add(conv1p, FilterBias1p)\n",
    "    \n",
    "    # TODO: Activation.\n",
    "    actv1 = tf.nn.relu(conv1p)\n",
    "    \n",
    "    # TODO: Layer 1: Convolutional. Input = 32x32x3. Output = 28x28x6.\n",
    "    FilterWeight1 = tf.Variable(tf.truncated_normal((5,5,3,6),mu,sigma))\n",
    "    FilterBias1 = tf.Variable(tf.zeros(6))\n",
    "    strides=[1,1,1,1]\n",
    "    padding=\"VALID\"\n",
    "    conv1 = tf.nn.conv2d(actv1, FilterWeight1, strides, padding)\n",
    "    conv1 = tf.nn.bias_add(conv1, FilterBias1)\n",
    "    \n",
    "    # TODO: Activation.\n",
    "    actv1 = tf.nn.relu(conv1)\n",
    "    \n",
    "    # TODO: Pooling. Input = 28x28x6. Output = 14x14x6.\n",
    "    ksize = [1, 2, 2, 1]\n",
    "    strides = [1, 2, 2, 1]\n",
    "    padding = \"VALID\"\n",
    "    pool1 = tf.nn.max_pool(actv1, ksize, strides, padding)\n",
    "    \n",
    "    \n",
    "    # TODO: Layer 2: Convolutional. Output = 10x10x16.\n",
    "    FilterWeight2 = tf.Variable(tf.truncated_normal((5,5,6,16),mu,sigma))\n",
    "    FilterBias2 = tf.Variable(tf.zeros(16))\n",
    "    strides = [1,1,1,1]\n",
    "    padding = \"VALID\"\n",
    "    conv2 = tf.nn.conv2d(pool1, FilterWeight2, strides, padding)\n",
    "    conv2 = tf.nn.bias_add(conv2, FilterBias2)\n",
    "    \n",
    "    # TODO: Activation.\n",
    "    actv2 = tf.nn.relu(conv2)\n",
    "    \n",
    "    # TODO: Pooling. Input = 10x10x16. Output = 5x5x16.\n",
    "    ksize = [1, 2, 2, 1]\n",
    "    strides = [1, 2, 2, 1]\n",
    "    padding = \"VALID\"\n",
    "    pool2 = tf.nn.max_pool(actv2, ksize, strides, padding)\n",
    "    \n",
    "    # TODO: Flatten. Input = 5x5x16. Output = 400.\n",
    "    flat_data = tf.contrib.layers.flatten(pool2)\n",
    "    #print(flat_data)\n",
    "    \n",
    "    # TODO: Layer 3: Fully Connected. Input = 400. Output = 120.\n",
    "    w1 = tf.Variable(tf.truncated_normal((400, 120),mu,sigma))\n",
    "    b1 = tf.Variable(tf.zeros(120))\n",
    "    fc1 = tf.add(tf.matmul(flat_data,w1),b1)\n",
    "    \n",
    "    # TODO: Activation.\n",
    "    fc1_act = tf.nn.relu(fc1)\n",
    "    \n",
    "    fc1_act = tf.nn.dropout(fc1_act, keep_prob)\n",
    "    \n",
    "    # TODO: Layer 4: Fully Connected. Input = 120. Output = 84.\n",
    "    w2 = tf.Variable(tf.truncated_normal((120, 84),mu,sigma))\n",
    "    b2 = tf.Variable(tf.zeros(84))\n",
    "    fc2 = tf.add(tf.matmul(fc1_act,w2),b2)\n",
    "    \n",
    "    # TODO: Activation.\n",
    "    fc2_act = tf.nn.relu(fc2)\n",
    "    \n",
    "    fc2_act = tf.nn.dropout(fc2_act, keep_prob)\n",
    "\n",
    "    # TODO: Layer 5: Fully Connected. Input = 84. Output = 43.\n",
    "    w3 = tf.Variable(tf.truncated_normal((84, n_classes),mu,sigma))\n",
    "    b3 = tf.Variable(tf.zeros(n_classes))\n",
    "    fc3 = tf.add(tf.matmul(fc2_act,w3),b3)\n",
    "\n",
    "    logits = fc3\n",
    "    return logits"
   ]
  },
  {
   "cell_type": "code",
   "execution_count": 11,
   "metadata": {
    "collapsed": true
   },
   "outputs": [],
   "source": [
    "\n",
    "'''\n",
    "This architecture is for 6 channel input. Due to memory limitations not used.\n",
    "'''\n",
    "def LeNetV2(x):\n",
    "    # Arguments used for tf.truncated_normal, randomly defines variables for the weights and biases for each layer\n",
    "    mu = 0\n",
    "    sigma = 0.1\n",
    "    \n",
    "    # TODO: Layer 1: Convolutional. Input = 32x32x1. Output = 28x28x6.\n",
    "    FilterWeight1 = tf.Variable(tf.truncated_normal((5,5,6,12),mu,sigma))\n",
    "    FilterBias1 = tf.Variable(tf.zeros(12))\n",
    "    strides=[1,1,1,1]\n",
    "    padding=\"VALID\"\n",
    "    conv1 = tf.nn.conv2d(x, FilterWeight1, strides, padding)\n",
    "    conv1 = tf.nn.bias_add(conv1, FilterBias1)\n",
    "    \n",
    "    # TODO: Activation.\n",
    "    actv1 = tf.nn.relu(conv1)\n",
    "\n",
    "    # TODO: Pooling. Input = 28x28x6. Output = 14x14x6.\n",
    "    ksize = [1, 2, 2, 1]\n",
    "    strides = [1, 2, 2, 1]\n",
    "    padding = \"VALID\"\n",
    "    pool1 = tf.nn.max_pool(actv1, ksize, strides, padding)\n",
    "    \n",
    "    # TODO: Layer 2: Convolutional. Output = 10x10x16.\n",
    "    FilterWeight2 = tf.Variable(tf.truncated_normal((5,5,12,22),mu,sigma))\n",
    "    FilterBias2 = tf.Variable(tf.zeros(22))\n",
    "    strides = [1,1,1,1]\n",
    "    padding = \"VALID\"\n",
    "    conv2 = tf.nn.conv2d(pool1, FilterWeight2, strides, padding)\n",
    "    conv2 = tf.nn.bias_add(conv2, FilterBias2)\n",
    "    \n",
    "    # TODO: Activation.\n",
    "    actv2 = tf.nn.relu(conv2)\n",
    "    \n",
    "    # TODO: Pooling. Input = 10x10x16. Output = 5x5x16.\n",
    "    ksize = [1, 2, 2, 1]\n",
    "    strides = [1, 2, 2, 1]\n",
    "    padding = \"VALID\"\n",
    "    pool2 = tf.nn.max_pool(actv2, ksize, strides, padding)\n",
    "    \n",
    "    # TODO: Flatten. Input = 5x5x16. Output = 400.\n",
    "    flat_data = flatten(pool2)\n",
    "    #print(flat_data)\n",
    "    \n",
    "    # TODO: Layer 3: Fully Connected. Input = 400. Output = 120.\n",
    "    w1 = tf.Variable(tf.truncated_normal((550, 200),mu,sigma))\n",
    "    b1 = tf.Variable(tf.zeros(200))\n",
    "    fc1 = tf.add(tf.matmul(flat_data,w1),b1)\n",
    "    \n",
    "    # TODO: Activation.\n",
    "    fc1_act = tf.nn.relu(fc1)\n",
    "    \n",
    "    fc1_act = tf.nn.dropout(fc1_act, keep_prob)\n",
    "    \n",
    "    # TODO: Layer 4: Fully Connected. Input = 120. Output = 84.\n",
    "    w2 = tf.Variable(tf.truncated_normal((200, 120),mu,sigma))\n",
    "    b2 = tf.Variable(tf.zeros(120))\n",
    "    fc2 = tf.add(tf.matmul(fc1_act,w2),b2)\n",
    "    \n",
    "    # TODO: Activation.\n",
    "    fc2_act = tf.nn.relu(fc2)\n",
    "    \n",
    "    fc2_act = tf.nn.dropout(fc2_act, keep_prob)\n",
    "\n",
    "    # TODO: Layer 5: Fully Connected. Input = 84. Output = 10.\n",
    "    w3 = tf.Variable(tf.truncated_normal((120, n_classes),mu,sigma))\n",
    "    b3 = tf.Variable(tf.zeros(n_classes))\n",
    "    fc3 = tf.add(tf.matmul(fc2_act,w3),b3)\n",
    "\n",
    "    logits = fc3\n",
    "    return logits\n",
    "  "
   ]
  },
  {
   "cell_type": "code",
   "execution_count": 12,
   "metadata": {
    "collapsed": true
   },
   "outputs": [],
   "source": [
    "x = tf.placeholder(tf.float32, (None, 32, 32, 3))\n",
    "y = tf.placeholder(tf.int32, (None))\n",
    "keep_prob = tf.placeholder(tf.float32)\n",
    "one_hot_y = tf.one_hot(y, n_classes)\n",
    "\n",
    "rate = 0.001\n",
    "\n",
    "logits = LeNet(x)\n",
    "cross_entropy = tf.nn.softmax_cross_entropy_with_logits(labels=one_hot_y, logits=logits)\n",
    "loss_operation = tf.reduce_mean(cross_entropy)\n",
    "optimizer = tf.train.AdamOptimizer(learning_rate = rate)\n",
    "training_operation = optimizer.minimize(loss_operation)\n",
    "\n",
    "correct_prediction = tf.equal(tf.argmax(logits, 1), tf.argmax(one_hot_y, 1))\n",
    "accuracy_operation = tf.reduce_mean(tf.cast(correct_prediction, tf.float32))\n",
    "saver = tf.train.Saver()\n",
    "\n",
    "def evaluate(X_data, y_data):\n",
    "    num_examples = len(X_data)\n",
    "    total_accuracy = 0\n",
    "    total_loss = 0\n",
    "    sess = tf.get_default_session()\n",
    "    for offset in range(0, num_examples, BATCH_SIZE):\n",
    "        batch_x, batch_y = X_data[offset:offset+BATCH_SIZE], y_data[offset:offset+BATCH_SIZE]\n",
    "        accuracy, loss = sess.run([accuracy_operation,loss_operation], feed_dict={x: batch_x, y: batch_y, keep_prob: 1})\n",
    "        total_accuracy += (accuracy * len(batch_x))\n",
    "        total_loss += (loss * len(batch_x))\n",
    "    return (total_accuracy / num_examples, total_loss / num_examples)\n",
    "  \n"
   ]
  },
  {
   "cell_type": "markdown",
   "metadata": {},
   "source": [
    "### Train, Validate and Test the Model"
   ]
  },
  {
   "cell_type": "markdown",
   "metadata": {},
   "source": [
    "A validation set can be used to assess how well the model is performing. A low accuracy on the training and validation\n",
    "sets imply underfitting. A high accuracy on the training set but low accuracy on the validation set implies overfitting."
   ]
  },
  {
   "cell_type": "code",
   "execution_count": 13,
   "metadata": {},
   "outputs": [
    {
     "name": "stdout",
     "output_type": "stream",
     "text": [
      "Training...\n",
      "\n",
      "EPOCH 1 ...\n",
      "Validation Accuracy = 0.643\n",
      "\n",
      "EPOCH 2 ...\n",
      "Validation Accuracy = 0.797\n",
      "\n",
      "EPOCH 3 ...\n",
      "Validation Accuracy = 0.849\n",
      "\n",
      "EPOCH 4 ...\n",
      "Validation Accuracy = 0.873\n",
      "\n",
      "EPOCH 5 ...\n",
      "Validation Accuracy = 0.903\n",
      "\n",
      "EPOCH 6 ...\n",
      "Validation Accuracy = 0.912\n",
      "\n",
      "EPOCH 7 ...\n",
      "Validation Accuracy = 0.924\n",
      "\n",
      "EPOCH 8 ...\n",
      "Validation Accuracy = 0.927\n",
      "\n",
      "EPOCH 9 ...\n",
      "Validation Accuracy = 0.949\n",
      "\n",
      "EPOCH 10 ...\n",
      "Validation Accuracy = 0.941\n",
      "\n",
      "EPOCH 11 ...\n",
      "Validation Accuracy = 0.947\n",
      "\n",
      "EPOCH 12 ...\n",
      "Validation Accuracy = 0.951\n",
      "\n",
      "EPOCH 13 ...\n",
      "Validation Accuracy = 0.951\n",
      "\n",
      "EPOCH 14 ...\n",
      "Validation Accuracy = 0.955\n",
      "\n",
      "EPOCH 15 ...\n",
      "Validation Accuracy = 0.958\n",
      "\n",
      "EPOCH 16 ...\n",
      "Validation Accuracy = 0.962\n",
      "\n",
      "EPOCH 17 ...\n",
      "Validation Accuracy = 0.966\n",
      "\n",
      "EPOCH 18 ...\n",
      "Validation Accuracy = 0.966\n",
      "\n",
      "EPOCH 19 ...\n",
      "Validation Accuracy = 0.966\n",
      "\n",
      "EPOCH 20 ...\n",
      "Validation Accuracy = 0.967\n",
      "\n",
      "EPOCH 21 ...\n",
      "Validation Accuracy = 0.966\n",
      "\n",
      "EPOCH 22 ...\n",
      "Validation Accuracy = 0.970\n",
      "\n",
      "EPOCH 23 ...\n",
      "Validation Accuracy = 0.969\n",
      "\n",
      "EPOCH 24 ...\n",
      "Validation Accuracy = 0.964\n",
      "\n",
      "EPOCH 25 ...\n",
      "Validation Accuracy = 0.970\n",
      "\n",
      "EPOCH 26 ...\n",
      "Validation Accuracy = 0.964\n",
      "\n",
      "EPOCH 27 ...\n",
      "Validation Accuracy = 0.970\n",
      "\n",
      "EPOCH 28 ...\n",
      "Validation Accuracy = 0.974\n",
      "\n",
      "EPOCH 29 ...\n",
      "Validation Accuracy = 0.971\n",
      "\n",
      "EPOCH 30 ...\n",
      "Validation Accuracy = 0.968\n",
      "\n",
      "EPOCH 31 ...\n",
      "Validation Accuracy = 0.976\n",
      "\n",
      "EPOCH 32 ...\n",
      "Validation Accuracy = 0.971\n",
      "\n",
      "EPOCH 33 ...\n",
      "Validation Accuracy = 0.971\n",
      "\n",
      "EPOCH 34 ...\n",
      "Validation Accuracy = 0.970\n",
      "\n",
      "EPOCH 35 ...\n",
      "Validation Accuracy = 0.976\n",
      "\n",
      "EPOCH 36 ...\n",
      "Validation Accuracy = 0.974\n",
      "\n",
      "EPOCH 37 ...\n",
      "Validation Accuracy = 0.972\n",
      "\n",
      "EPOCH 38 ...\n",
      "Validation Accuracy = 0.973\n",
      "\n",
      "EPOCH 39 ...\n",
      "Validation Accuracy = 0.974\n",
      "\n",
      "EPOCH 40 ...\n",
      "Validation Accuracy = 0.963\n",
      "\n",
      "EPOCH 41 ...\n",
      "Validation Accuracy = 0.977\n",
      "\n",
      "EPOCH 42 ...\n",
      "Validation Accuracy = 0.972\n",
      "\n",
      "EPOCH 43 ...\n",
      "Validation Accuracy = 0.976\n",
      "\n",
      "EPOCH 44 ...\n",
      "Validation Accuracy = 0.978\n",
      "\n",
      "EPOCH 45 ...\n",
      "Validation Accuracy = 0.973\n",
      "\n",
      "EPOCH 46 ...\n",
      "Validation Accuracy = 0.976\n",
      "\n",
      "EPOCH 47 ...\n",
      "Validation Accuracy = 0.973\n",
      "\n",
      "EPOCH 48 ...\n",
      "Validation Accuracy = 0.975\n",
      "\n",
      "EPOCH 49 ...\n",
      "Validation Accuracy = 0.976\n",
      "\n",
      "EPOCH 50 ...\n",
      "Validation Accuracy = 0.974\n",
      "\n",
      "Model saved\n"
     ]
    },
    {
     "data": {
      "image/png": "[encoded data removed]",
      "text/plain": [
       "<matplotlib.figure.Figure at 0x7f99714ff588>"
      ]
     },
     "metadata": {},
     "output_type": "display_data"
    }
   ],
   "source": [
    "### Train your model here.\n",
    "### Calculate and report the accuracy on the training and validation set.\n",
    "### Once a final model architecture is selected, \n",
    "### the accuracy on the test set should be calculated and reported as well.\n",
    "### Feel free to use as many code cells as needed.\n",
    "with tf.Session() as sess:\n",
    "    sess.run(tf.global_variables_initializer())\n",
    "    num_examples = len(X_train)\n",
    "    best_train_accuracy = 0\n",
    "    best_valid_accuracy = 0\n",
    "    print(\"Training...\")\n",
    "    print()\n",
    "    loss_history = {\"train\":[],\"valid\":[]} \n",
    "    for i in range(EPOCHS):\n",
    "        X_train, y_train = shuffle(X_train, y_train)\n",
    "        for offset in range(0, num_examples, BATCH_SIZE):\n",
    "            end = offset + BATCH_SIZE\n",
    "            batch_x, batch_y = X_train[offset:end], y_train[offset:end]\n",
    "            sess.run(training_operation, feed_dict={x: batch_x, y: batch_y, keep_prob: KEEP_PROB})\n",
    "            \n",
    "        (validation_accuracy, validation_loss) = evaluate(X_valid, y_valid)\n",
    "        (training_accuracy, training_loss) = evaluate(X_train, y_train)\n",
    "        \n",
    "        loss_history[\"valid\"].append(validation_loss)\n",
    "        loss_history[\"train\"].append(training_loss)\n",
    "        \n",
    "        print(\"EPOCH {} ...\".format(i+1))\n",
    "        #print(\"Training Accuracy = {:.3f}\".format(training_accuracy))\n",
    "        print(\"Validation Accuracy = {:.3f}\".format(validation_accuracy))\n",
    "        print()\n",
    "        if training_accuracy>=best_train_accuracy and validation_accuracy>=best_valid_accuracy:\n",
    "            best_train_accuracy = training_accuracy\n",
    "            best_valid_accuracy = validation_accuracy\n",
    "            saver.save(sess, './best-lenet')\n",
    "        \n",
    "    saver.save(sess, './lenet')\n",
    "    print(\"Model saved\")\n",
    "    loss_plt = plt.subplot(2,1,1)\n",
    "    loss_plt.set_title(\"Loss\")\n",
    "    loss_plt.plot(loss_history[\"train\"], \"r\", label=\"Training Loss\")\n",
    "    loss_plt.plot(loss_history[\"valid\"], \"b\", label=\"Validation Loss\")\n",
    "    loss_plt.set_xlim([0, EPOCHS])\n",
    "    loss_plt.legend(loc=4)"
   ]
  },
  {
   "cell_type": "markdown",
   "metadata": {},
   "source": [
    "#### Test result on the Last model"
   ]
  },
  {
   "cell_type": "code",
   "execution_count": 14,
   "metadata": {},
   "outputs": [
    {
     "name": "stdout",
     "output_type": "stream",
     "text": [
      "Test Accuracy = 0.953\n"
     ]
    }
   ],
   "source": [
    "with tf.Session() as sess:\n",
    "    saver.restore(sess, tf.train.latest_checkpoint('.'))\n",
    "\n",
    "    test_accuracy,test_loss = evaluate(X_test, y_test)\n",
    "    print(\"Test Accuracy = {:.3f}\".format(test_accuracy))"
   ]
  },
  {
   "cell_type": "markdown",
   "metadata": {},
   "source": [
    "#### Test result on the best model"
   ]
  },
  {
   "cell_type": "code",
   "execution_count": 15,
   "metadata": {},
   "outputs": [
    {
     "name": "stdout",
     "output_type": "stream",
     "text": [
      "Test Accuracy = 0.949\n"
     ]
    }
   ],
   "source": [
    "with tf.Session() as sess:\n",
    "    saver.restore(sess, \"./best-lenet\")\n",
    "    test_accuracy,test_loss = evaluate(X_test, y_test)\n",
    "    print(\"Test Accuracy = {:.3f}\".format(test_accuracy))"
   ]
  },
  {
   "cell_type": "markdown",
   "metadata": {},
   "source": [
    "---\n",
    "\n",
    "## Step 3: Test a Model on New Images\n",
    "\n",
    "To give yourself more insight into how your model is working, download at least five pictures of German traffic signs from the web and use your model to predict the traffic sign type.\n",
    "\n",
    "You may find `signnames.csv` useful as it contains mappings from the class id (integer) to the actual sign name."
   ]
  },
  {
   "cell_type": "markdown",
   "metadata": {},
   "source": [
    "### Load and Output the Images"
   ]
  },
  {
   "cell_type": "code",
   "execution_count": 16,
   "metadata": {},
   "outputs": [
    {
     "data": {
      "image/png": "[encoded data removed]",
      "text/plain": [
       "<matplotlib.figure.Figure at 0x7f99f421fe48>"
      ]
     },
     "metadata": {},
     "output_type": "display_data"
    }
   ],
   "source": [
    "### Load the images and plot them here.\n",
    "### Feel free to use as many code cells as needed.\n",
    "import matplotlib.image as mpimg\n",
    "import csv\n",
    "signmap = {}\n",
    "with open('signnames.csv', 'r') as csvfile:\n",
    "    reader = csv.reader(csvfile, delimiter=',')\n",
    "    for row in reader:\n",
    "        signmap[row[0]]=row[1]\n",
    "    \n",
    "testimg1 = mpimg.imread('./test_images/testimg1.jpg')\n",
    "plt.imshow(testimg1)\n",
    "nrmimg1 = normalize_img(testimg1)"
   ]
  },
  {
   "cell_type": "code",
   "execution_count": 17,
   "metadata": {},
   "outputs": [
    {
     "data": {
      "image/png": "[encoded data removed]",
      "text/plain": [
       "<matplotlib.figure.Figure at 0x7f99604f6390>"
      ]
     },
     "metadata": {},
     "output_type": "display_data"
    }
   ],
   "source": [
    "testimg2 = mpimg.imread('./test_images/testimg2.jpg')\n",
    "plt.imshow(testimg2)\n",
    "nrmimg2 = normalize_img(testimg2)"
   ]
  },
  {
   "cell_type": "code",
   "execution_count": 18,
   "metadata": {},
   "outputs": [
    {
     "data": {
      "image/png": "[encoded data removed]",
      "text/plain": [
       "<matplotlib.figure.Figure at 0x7f996066e5f8>"
      ]
     },
     "metadata": {},
     "output_type": "display_data"
    }
   ],
   "source": [
    "testimg3 = mpimg.imread('./test_images/testimg3.jpg')\n",
    "plt.imshow(testimg3)\n",
    "nrmimg3 = normalize_img(testimg3)"
   ]
  },
  {
   "cell_type": "code",
   "execution_count": 19,
   "metadata": {},
   "outputs": [
    {
     "data": {
      "image/png": "[encoded data removed]",
      "text/plain": [
       "<matplotlib.figure.Figure at 0x7f99604495f8>"
      ]
     },
     "metadata": {},
     "output_type": "display_data"
    }
   ],
   "source": [
    "testimg4 = mpimg.imread('./test_images/testimg4.jpg')\n",
    "plt.imshow(testimg4)\n",
    "nrmimg4 = normalize_img(testimg4)"
   ]
  },
  {
   "cell_type": "code",
   "execution_count": 20,
   "metadata": {},
   "outputs": [
    {
     "data": {
      "image/png": "[encoded data removed]",
      "text/plain": [
       "<matplotlib.figure.Figure at 0x7f99603b9b38>"
      ]
     },
     "metadata": {},
     "output_type": "display_data"
    }
   ],
   "source": [
    "testimg5 = mpimg.imread('./test_images/testimg5.jpg')\n",
    "plt.imshow(testimg5)\n",
    "nrmimg5 = normalize_img(testimg5)"
   ]
  },
  {
   "cell_type": "code",
   "execution_count": 59,
   "metadata": {
    "collapsed": true
   },
   "outputs": [],
   "source": [
    "X_testing = np.array([nrmimg1,nrmimg2,nrmimg3,nrmimg4,nrmimg5])\n",
    "y_testing = np.array([14,23,33,1,40])"
   ]
  },
  {
   "cell_type": "markdown",
   "metadata": {},
   "source": [
    "### Predict the Sign Type for Each Image"
   ]
  },
  {
   "cell_type": "code",
   "execution_count": 60,
   "metadata": {},
   "outputs": [
    {
     "name": "stdout",
     "output_type": "stream",
     "text": [
      "Prob -> Sign\n",
      "1.0 -> Stop\n",
      "1.0 -> Slippery road\n",
      "1.0 -> Turn right ahead\n",
      "0.99986684 -> Speed limit (30km/h)\n",
      "0.9907857 -> Roundabout mandatory\n"
     ]
    }
   ],
   "source": [
    "### Run the predictions here and use the model to output the prediction for each image.\n",
    "### Make sure to pre-process the images with the same pre-processing pipeline used earlier.\n",
    "### Feel free to use as many code cells as needed.\n",
    "with tf.Session() as sess:\n",
    "    saver.restore(sess, \"./best-lenet\")\n",
    "    res = sess.run(tf.nn.softmax(logits),feed_dict={x:X_testing,keep_prob:1})\n",
    "    print(\"Prob -> Sign\")\n",
    "    for item in res:\n",
    "        out = [i for i in item.flatten()]\n",
    "        print(max(out),\"->\", signmap[str(out.index(max(out)))])"
   ]
  },
  {
   "cell_type": "markdown",
   "metadata": {},
   "source": [
    "### Analyze Performance"
   ]
  },
  {
   "cell_type": "code",
   "execution_count": 61,
   "metadata": {},
   "outputs": [
    {
     "name": "stdout",
     "output_type": "stream",
     "text": [
      "Test Accuracy = 100.000\n"
     ]
    }
   ],
   "source": [
    "### Calculate the accuracy for these 5 new images. \n",
    "### For example, if the model predicted 1 out of 5 signs correctly, it's 20% accurate on these new images.\n",
    "with tf.Session() as sess:\n",
    "    saver.restore(sess, tf.train.latest_checkpoint('.'))\n",
    "\n",
    "    test_accuracy,test_loss = evaluate(X_testing, y_testing)\n",
    "    print(\"Test Accuracy = {:.3f}\".format(test_accuracy*100))"
   ]
  },
  {
   "cell_type": "markdown",
   "metadata": {},
   "source": [
    "### Output Top 5 Softmax Probabilities For Each Image Found on the Web"
   ]
  },
  {
   "cell_type": "markdown",
   "metadata": {},
   "source": [
    "For each of the new images, print out the model's softmax probabilities to show the **certainty** of the model's predictions (limit the output to the top 5 probabilities for each image). [`tf.nn.top_k`](https://www.tensorflow.org/versions/r0.12/api_docs/python/nn.html#top_k) could prove helpful here. \n",
    "\n",
    "The example below demonstrates how tf.nn.top_k can be used to find the top k predictions for each image.\n",
    "\n",
    "`tf.nn.top_k` will return the values and indices (class ids) of the top k predictions. So if k=3, for each sign, it'll return the 3 largest probabilities (out of a possible 43) and the correspoding class ids.\n",
    "\n",
    "Take this numpy array as an example. The values in the array represent predictions. The array contains softmax probabilities for five candidate images with six possible classes. `tf.nn.top_k` is used to choose the three classes with the highest probability:\n",
    "\n",
    "```\n",
    "# (5, 6) array\n",
    "a = np.array([[ 0.24879643,  0.07032244,  0.12641572,  0.34763842,  0.07893497,\n",
    "         0.12789202],\n",
    "       [ 0.28086119,  0.27569815,  0.08594638,  0.0178669 ,  0.18063401,\n",
    "         0.15899337],\n",
    "       [ 0.26076848,  0.23664738,  0.08020603,  0.07001922,  0.1134371 ,\n",
    "         0.23892179],\n",
    "       [ 0.11943333,  0.29198961,  0.02605103,  0.26234032,  0.1351348 ,\n",
    "         0.16505091],\n",
    "       [ 0.09561176,  0.34396535,  0.0643941 ,  0.16240774,  0.24206137,\n",
    "         0.09155967]])\n",
    "```\n",
    "\n",
    "Running it through `sess.run(tf.nn.top_k(tf.constant(a), k=3))` produces:\n",
    "\n",
    "```\n",
    "TopKV2(values=array([[ 0.34763842,  0.24879643,  0.12789202],\n",
    "       [ 0.28086119,  0.27569815,  0.18063401],\n",
    "       [ 0.26076848,  0.23892179,  0.23664738],\n",
    "       [ 0.29198961,  0.26234032,  0.16505091],\n",
    "       [ 0.34396535,  0.24206137,  0.16240774]]), indices=array([[3, 0, 5],\n",
    "       [0, 1, 4],\n",
    "       [0, 5, 1],\n",
    "       [1, 3, 5],\n",
    "       [1, 4, 3]], dtype=int32))\n",
    "```\n",
    "\n",
    "Looking just at the first row we get `[ 0.34763842,  0.24879643,  0.12789202]`, you can confirm these are the 3 largest probabilities in `a`. You'll also notice `[3, 0, 5]` are the corresponding indices."
   ]
  },
  {
   "cell_type": "code",
   "execution_count": 62,
   "metadata": {},
   "outputs": [
    {
     "name": "stdout",
     "output_type": "stream",
     "text": [
      "Image 1\n",
      "1.0 -> Stop\n",
      "7.213995e-11 -> No vehicles\n",
      "6.341166e-12 -> Speed limit (30km/h)\n",
      "5.399329e-13 -> Yield\n",
      "1.245141e-13 -> Speed limit (60km/h)\n",
      "Image 2\n",
      "1.0 -> Slippery road\n",
      "4.306018e-09 -> Dangerous curve to the right\n",
      "3.6228173e-12 -> Dangerous curve to the left\n",
      "1.0730475e-16 -> Right-of-way at the next intersection\n",
      "1.8337623e-21 -> Children crossing\n",
      "Image 3\n",
      "1.0 -> Turn right ahead\n",
      "1.2732035e-13 -> Ahead only\n",
      "6.56296e-14 -> Turn left ahead\n",
      "1.3182148e-17 -> Keep left\n",
      "9.014684e-18 -> Go straight or left\n",
      "Image 4\n",
      "0.99986684 -> Speed limit (30km/h)\n",
      "0.00013314499 -> Speed limit (20km/h)\n",
      "4.788935e-10 -> Speed limit (50km/h)\n",
      "4.647488e-13 -> Speed limit (70km/h)\n",
      "1.1079947e-13 -> Speed limit (60km/h)\n",
      "Image 5\n",
      "0.9907857 -> Roundabout mandatory\n",
      "0.0091924155 -> Go straight or left\n",
      "1.0634703e-05 -> Ahead only\n",
      "7.907677e-06 -> Turn left ahead\n",
      "3.1629243e-06 -> Turn right ahead\n"
     ]
    }
   ],
   "source": [
    "### Print out the top five softmax probabilities for the predictions on the German traffic sign images found on the web. \n",
    "### Feel free to use as many code cells as needed.\n",
    "with tf.Session() as sess:\n",
    "    saver.restore(sess, \"./best-lenet\")\n",
    "    res = sess.run(tf.nn.top_k(tf.nn.softmax(logits),k=5),feed_dict={x:X_testing,keep_prob:1})            \n",
    "    c = 1\n",
    "    for probs,indxs in zip(res.values,res.indices):\n",
    "        print(\"Image\",c)\n",
    "        for i in range(5):\n",
    "            print(probs[i],\"->\",signmap[str(indxs[i])])\n",
    "        c+=1\n",
    "    "
   ]
  },
  {
   "cell_type": "markdown",
   "metadata": {},
   "source": [
    "### Project Writeup\n",
    "\n",
    "Once you have completed the code implementation, document your results in a project writeup using this [template](https://github.com/udacity/CarND-Traffic-Sign-Classifier-Project/blob/master/writeup_template.md) as a guide. The writeup can be in a markdown or pdf file. "
   ]
  },
  {
   "cell_type": "markdown",
   "metadata": {},
   "source": [
    "> **Note**: Once you have completed all of the code implementations and successfully answered each question above, you may finalize your work by exporting the iPython Notebook as an HTML document. You can do this by using the menu above and navigating to  \\n\",\n",
    "    \"**File -> Download as -> HTML (.html)**. Include the finished document along with this notebook as your submission."
   ]
  },
  {
   "cell_type": "markdown",
   "metadata": {},
   "source": [
    "---\n",
    "\n",
    "## Step 4 (Optional): Visualize the Neural Network's State with Test Images\n",
    "\n",
    " This Section is not required to complete but acts as an additional excersise for understaning the output of a neural network's weights. While neural networks can be a great learning device they are often referred to as a black box. We can understand what the weights of a neural network look like better by plotting their feature maps. After successfully training your neural network you can see what it's feature maps look like by plotting the output of the network's weight layers in response to a test stimuli image. From these plotted feature maps, it's possible to see what characteristics of an image the network finds interesting. For a sign, maybe the inner network feature maps react with high activation to the sign's boundary outline or to the contrast in the sign's painted symbol.\n",
    "\n",
    " Provided for you below is the function code that allows you to get the visualization output of any tensorflow weight layer you want. The inputs to the function should be a stimuli image, one used during training or a new one you provided, and then the tensorflow variable name that represents the layer's state during the training process, for instance if you wanted to see what the [LeNet lab's](https://classroom.udacity.com/nanodegrees/nd013/parts/fbf77062-5703-404e-b60c-95b78b2f3f9e/modules/6df7ae49-c61c-4bb2-a23e-6527e69209ec/lessons/601ae704-1035-4287-8b11-e2c2716217ad/concepts/d4aca031-508f-4e0b-b493-e7b706120f81) feature maps looked like for it's second convolutional layer you could enter conv2 as the tf_activation variable.\n",
    "\n",
    "For an example of what feature map outputs look like, check out NVIDIA's results in their paper [End-to-End Deep Learning for Self-Driving Cars](https://devblogs.nvidia.com/parallelforall/deep-learning-self-driving-cars/) in the section Visualization of internal CNN State. NVIDIA was able to show that their network's inner weights had high activations to road boundary lines by comparing feature maps from an image with a clear path to one without. Try experimenting with a similar test to show that your trained network's weights are looking for interesting features, whether it's looking at differences in feature maps from images with or without a sign, or even what feature maps look like in a trained network vs a completely untrained one on the same sign image.\n",
    "\n",
    "<figure>\n",
    " <img src=\"visualize_cnn.png\" width=\"380\" alt=\"Combined Image\" />\n",
    " <figcaption>\n",
    " <p></p> \n",
    " <p style=\"text-align: center;\"> Your output should look something like this (above)</p> \n",
    " </figcaption>\n",
    "</figure>\n",
    " <p></p> \n"
   ]
  },
  {
   "cell_type": "code",
   "execution_count": 25,
   "metadata": {
    "collapsed": true
   },
   "outputs": [],
   "source": [
    "### Visualize your network's feature maps here.\n",
    "### Feel free to use as many code cells as needed.\n",
    "\n",
    "# image_input: the test image being fed into the network to produce the feature maps\n",
    "# tf_activation: should be a tf variable name used during your training procedure that represents the calculated state of a specific weight layer\n",
    "# activation_min/max: can be used to view the activation contrast in more detail, by default matplot sets min and max to the actual min and max values of the output\n",
    "# plt_num: used to plot out multiple different weight feature map sets on the same block, just extend the plt number for each new feature map entry\n",
    "\n",
    "def outputFeatureMap(image_input, tf_activation, activation_min=-1, activation_max=-1 ,plt_num=1):\n",
    "    # Here make sure to preprocess your image_input in a way your network expects\n",
    "    # with size, normalization, ect if needed\n",
    "    # image_input =\n",
    "    # Note: x should be the same name as your network's tensorflow data placeholder variable\n",
    "    # If you get an error tf_activation is not defined it may be having trouble accessing the variable from inside a function\n",
    "    activation = tf_activation.eval(session=sess,feed_dict={x : image_input})\n",
    "    featuremaps = activation.shape[3]\n",
    "    plt.figure(plt_num, figsize=(15,15))\n",
    "    for featuremap in range(featuremaps):\n",
    "        plt.subplot(6,8, featuremap+1) # sets the number of feature maps to show on each row and column\n",
    "        plt.title('FeatureMap ' + str(featuremap)) # displays the feature map number\n",
    "        if activation_min != -1 & activation_max != -1:\n",
    "            plt.imshow(activation[0,:,:, featuremap], interpolation=\"nearest\", vmin =activation_min, vmax=activation_max, cmap=\"gray\")\n",
    "        elif activation_max != -1:\n",
    "            plt.imshow(activation[0,:,:, featuremap], interpolation=\"nearest\", vmax=activation_max, cmap=\"gray\")\n",
    "        elif activation_min !=-1:\n",
    "            plt.imshow(activation[0,:,:, featuremap], interpolation=\"nearest\", vmin=activation_min, cmap=\"gray\")\n",
    "        else:\n",
    "            plt.imshow(activation[0,:,:, featuremap], interpolation=\"nearest\", cmap=\"gray\")"
   ]
  }
 ],
 "metadata": {
  "anaconda-cloud": {},
  "kernelspec": {
   "display_name": "Python 3",
   "language": "python",
   "name": "python3"
  },
  "language_info": {
   "codemirror_mode": {
    "name": "ipython",
    "version": 3
   },
   "file_extension": ".py",
   "mimetype": "text/x-python",
   "name": "python",
   "nbconvert_exporter": "python",
   "pygments_lexer": "ipython3",
   "version": "3.5.2"
  },
  "widgets": {
   "state": {},
   "version": "1.1.2"
  }
 },
 "nbformat": 4,
 "nbformat_minor": 1
}
