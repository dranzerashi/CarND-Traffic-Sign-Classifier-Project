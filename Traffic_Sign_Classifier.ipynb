{
 "cells": [
  {
   "cell_type": "markdown",
   "metadata": {},
   "source": [
    "# Self-Driving Car Engineer Nanodegree\n",
    "\n",
    "## Deep Learning\n",
    "\n",
    "## Project: Build a Traffic Sign Recognition Classifier\n",
    "\n",
    "In this notebook, a template is provided for you to implement your functionality in stages, which is required to successfully complete this project. If additional code is required that cannot be included in the notebook, be sure that the Python code is successfully imported and included in your submission if necessary. \n",
    "\n",
    "> **Note**: Once you have completed all of the code implementations, you need to finalize your work by exporting the iPython Notebook as an HTML document. Before exporting the notebook to html, all of the code cells need to have been run so that reviewers can see the final implementation and output. You can then export the notebook by using the menu above and navigating to  \\n\",\n",
    "    \"**File -> Download as -> HTML (.html)**. Include the finished document along with this notebook as your submission. \n",
    "\n",
    "In addition to implementing code, there is a writeup to complete. The writeup should be completed in a separate file, which can be either a markdown file or a pdf document. There is a [write up template](https://github.com/udacity/CarND-Traffic-Sign-Classifier-Project/blob/master/writeup_template.md) that can be used to guide the writing process. Completing the code template and writeup template will cover all of the [rubric points](https://review.udacity.com/#!/rubrics/481/view) for this project.\n",
    "\n",
    "The [rubric](https://review.udacity.com/#!/rubrics/481/view) contains \"Stand Out Suggestions\" for enhancing the project beyond the minimum requirements. The stand out suggestions are optional. If you decide to pursue the \"stand out suggestions\", you can include the code in this Ipython notebook and also discuss the results in the writeup file.\n",
    "\n",
    "\n",
    ">**Note:** Code and Markdown cells can be executed using the **Shift + Enter** keyboard shortcut. In addition, Markdown cells can be edited by typically double-clicking the cell to enter edit mode."
   ]
  },
  {
   "cell_type": "markdown",
   "metadata": {},
   "source": [
    "---\n",
    "## Step 0: Load The Data"
   ]
  },
  {
   "cell_type": "markdown",
   "metadata": {},
   "source": [
    "### Imports"
   ]
  },
  {
   "cell_type": "code",
   "execution_count": 1,
   "metadata": {},
   "outputs": [
    {
     "name": "stdout",
     "output_type": "stream",
     "text": [
      "All modules imported.\n"
     ]
    }
   ],
   "source": [
    "import hashlib\n",
    "import os\n",
    "import pickle\n",
    "from urllib.request import urlretrieve\n",
    "import random\n",
    "\n",
    "import numpy as np\n",
    "from PIL import Image\n",
    "from sklearn.model_selection import train_test_split\n",
    "from sklearn.preprocessing import LabelBinarizer\n",
    "from sklearn.utils import resample\n",
    "\n",
    "from zipfile import ZipFile\n",
    "\n",
    "print('All modules imported.')"
   ]
  },
  {
   "cell_type": "markdown",
   "metadata": {},
   "source": [
    "### Download the training data zip"
   ]
  },
  {
   "cell_type": "code",
   "execution_count": 2,
   "metadata": {},
   "outputs": [
    {
     "name": "stdout",
     "output_type": "stream",
     "text": [
      "downloaded\n"
     ]
    }
   ],
   "source": [
    "import tensorflow as tf\n",
    "\n",
    "def download(url, file):\n",
    "    \"\"\"\n",
    "    Download file from <url>\n",
    "    :param url: URL to file\n",
    "    :param file: Local file path\n",
    "    \"\"\"\n",
    "    if not os.path.isfile(file):\n",
    "        print('Downloading ' + file + '...')\n",
    "        urlretrieve(url, file)\n",
    "        print('Download Finished')\n",
    "\n",
    "download('https://d17h27t6h515a5.cloudfront.net/topher/2017/February/5898cd6f_traffic-signs-data/traffic-signs-data.zip', 'traffic-signs-data.zip')\n",
    "print(\"downloaded\")\n"
   ]
  },
  {
   "cell_type": "markdown",
   "metadata": {},
   "source": [
    "### Extract the files to a folder"
   ]
  },
  {
   "cell_type": "code",
   "execution_count": 3,
   "metadata": {},
   "outputs": [
    {
     "data": {
      "text/plain": [
       "['train.p', 'valid.p', 'test.p']"
      ]
     },
     "execution_count": 3,
     "metadata": {},
     "output_type": "execute_result"
    }
   ],
   "source": [
    "def uncompress_files(file):\n",
    "    \"\"\"\n",
    "    Uncompress features and labels from a zip file\n",
    "    :param file: The zip file to extract the data from\n",
    "    \"\"\"\n",
    "    with ZipFile(file) as zipf:\n",
    "        zipf.extractall('traindata')\n",
    "uncompress_files('traffic-signs-data.zip')\n",
    "os.listdir('traindata')\n"
   ]
  },
  {
   "cell_type": "code",
   "execution_count": 4,
   "metadata": {},
   "outputs": [],
   "source": [
    "# Load pickled data\n",
    "import pickle\n",
    "\n",
    "# TODO: Fill this in based on where you saved the training and testing data\n",
    "\n",
    "training_file = 'traindata/train.p'\n",
    "validation_file='traindata/valid.p'\n",
    "testing_file = 'traindata/test.p'\n",
    "\n",
    "with open(training_file, mode='rb') as f:\n",
    "    train = pickle.load(f)\n",
    "with open(validation_file, mode='rb') as f:\n",
    "    valid = pickle.load(f)\n",
    "with open(testing_file, mode='rb') as f:\n",
    "    test = pickle.load(f)\n",
    "    \n",
    "X_train, y_train = train['features'], train['labels']\n",
    "X_valid, y_valid = valid['features'], valid['labels']\n",
    "X_test, y_test = test['features'], test['labels']"
   ]
  },
  {
   "cell_type": "markdown",
   "metadata": {},
   "source": [
    "---\n",
    "\n",
    "## Step 1: Dataset Summary & Exploration\n",
    "\n",
    "The pickled data is a dictionary with 4 key/value pairs:\n",
    "\n",
    "- `'features'` is a 4D array containing raw pixel data of the traffic sign images, (num examples, width, height, channels).\n",
    "- `'labels'` is a 1D array containing the label/class id of the traffic sign. The file `signnames.csv` contains id -> name mappings for each id.\n",
    "- `'sizes'` is a list containing tuples, (width, height) representing the original width and height the image.\n",
    "- `'coords'` is a list containing tuples, (x1, y1, x2, y2) representing coordinates of a bounding box around the sign in the image. **THESE COORDINATES ASSUME THE ORIGINAL IMAGE. THE PICKLED DATA CONTAINS RESIZED VERSIONS (32 by 32) OF THESE IMAGES**\n",
    "\n",
    "Complete the basic data summary below. Use python, numpy and/or pandas methods to calculate the data summary rather than hard coding the results. For example, the [pandas shape method](http://pandas.pydata.org/pandas-docs/stable/generated/pandas.DataFrame.shape.html) might be useful for calculating some of the summary results. "
   ]
  },
  {
   "cell_type": "markdown",
   "metadata": {},
   "source": [
    "### Provide a Basic Summary of the Data Set Using Python, Numpy and/or Pandas"
   ]
  },
  {
   "cell_type": "code",
   "execution_count": 5,
   "metadata": {},
   "outputs": [
    {
     "name": "stdout",
     "output_type": "stream",
     "text": [
      "Number of training examples = 34799\n",
      "Number of testing examples = 12630\n",
      "Image data shape = (32, 32, 3)\n",
      "Number of classes = 43\n"
     ]
    }
   ],
   "source": [
    "### Replace each question mark with the appropriate value. \n",
    "### Use python, pandas or numpy methods rather than hard coding the results\n",
    "\n",
    "# TODO: Number of training examples\n",
    "n_train = len(X_train)\n",
    "\n",
    "# TODO: Number of validation examples\n",
    "n_validation = len(X_valid)\n",
    "\n",
    "# TODO: Number of testing examples.\n",
    "n_test = len(X_test)\n",
    "\n",
    "# TODO: What's the shape of an traffic sign image?\n",
    "image_shape = X_train[0].shape\n",
    "\n",
    "# TODO: How many unique classes/labels there are in the dataset.\n",
    "n_classes = len(set(y_train))\n",
    "\n",
    "print(\"Number of training examples =\", n_train)\n",
    "print(\"Number of testing examples =\", n_test)\n",
    "print(\"Image data shape =\", image_shape)\n",
    "print(\"Number of classes =\", n_classes)"
   ]
  },
  {
   "cell_type": "markdown",
   "metadata": {},
   "source": [
    "### Include an exploratory visualization of the dataset"
   ]
  },
  {
   "cell_type": "markdown",
   "metadata": {},
   "source": [
    "Visualize the German Traffic Signs Dataset using the pickled file(s). This is open ended, suggestions include: plotting traffic sign images, plotting the count of each sign, etc. \n",
    "\n",
    "The [Matplotlib](http://matplotlib.org/) [examples](http://matplotlib.org/examples/index.html) and [gallery](http://matplotlib.org/gallery.html) pages are a great resource for doing visualizations in Python.\n",
    "\n",
    "**NOTE:** It's recommended you start with something simple first. If you wish to do more, come back to it after you've completed the rest of the sections. It can be interesting to look at the distribution of classes in the training, validation and test set. Is the distribution the same? Are there more examples of some classes than others?"
   ]
  },
  {
   "cell_type": "code",
   "execution_count": 6,
   "metadata": {},
   "outputs": [
    {
     "data": {
      "text/plain": [
       "<Container object of 43 artists>"
      ]
     },
     "execution_count": 6,
     "metadata": {},
     "output_type": "execute_result"
    },
    {
     "data": {
      "image/png": "[encoded data removed]",
      "text/plain": [
       "<matplotlib.figure.Figure at 0x7f99117b9390>"
      ]
     },
     "metadata": {},
     "output_type": "display_data"
    }
   ],
   "source": [
    "### Data exploration visualization code goes here.\n",
    "### Feel free to use as many code cells as needed.\n",
    "import matplotlib.pyplot as plt\n",
    "# Visualizations will be shown in the notebook.\n",
    "%matplotlib inline\n",
    "\n",
    "class_count = {}\n",
    "\n",
    "for label in y_train.tolist():\n",
    "    class_count[label] = class_count.get(label, 0) + 1\n",
    "\n",
    "plt.bar(list(class_count.keys()), class_count.values(), 1, color='b')"
   ]
  },
  {
   "cell_type": "markdown",
   "metadata": {},
   "source": [
    "----\n",
    "\n",
    "## Step 2: Design and Test a Model Architecture\n",
    "\n",
    "Design and implement a deep learning model that learns to recognize traffic signs. Train and test your model on the [German Traffic Sign Dataset](http://benchmark.ini.rub.de/?section=gtsrb&subsection=dataset).\n",
    "\n",
    "The LeNet-5 implementation shown in the [classroom](https://classroom.udacity.com/nanodegrees/nd013/parts/fbf77062-5703-404e-b60c-95b78b2f3f9e/modules/6df7ae49-c61c-4bb2-a23e-6527e69209ec/lessons/601ae704-1035-4287-8b11-e2c2716217ad/concepts/d4aca031-508f-4e0b-b493-e7b706120f81) at the end of the CNN lesson is a solid starting point. You'll have to change the number of classes and possibly the preprocessing, but aside from that it's plug and play! \n",
    "\n",
    "With the LeNet-5 solution from the lecture, you should expect a validation set accuracy of about 0.89. To meet specifications, the validation set accuracy will need to be at least 0.93. It is possible to get an even higher accuracy, but 0.93 is the minimum for a successful project submission. \n",
    "\n",
    "There are various aspects to consider when thinking about this problem:\n",
    "\n",
    "- Neural network architecture (is the network over or underfitting?)\n",
    "- Play around preprocessing techniques (normalization, rgb to grayscale, etc)\n",
    "- Number of examples per label (some have more than others).\n",
    "- Generate fake data.\n",
    "\n",
    "Here is an example of a [published baseline model on this problem](http://yann.lecun.com/exdb/publis/pdf/sermanet-ijcnn-11.pdf). It's not required to be familiar with the approach used in the paper but, it's good practice to try to read papers like these."
   ]
  },
  {
   "cell_type": "markdown",
   "metadata": {},
   "source": [
    "### Pre-process the Data Set (normalization, grayscale, etc.)"
   ]
  },
  {
   "cell_type": "markdown",
   "metadata": {},
   "source": [
    "Minimally, the image data should be normalized so that the data has mean zero and equal variance. For image data, `(pixel - 128)/ 128` is a quick way to approximately normalize the data and can be used in this project. \n",
    "\n",
    "Other pre-processing steps are optional. You can try different techniques to see if it improves performance. \n",
    "\n",
    "Use the code cell (or multiple code cells, if necessary) to implement the first step of your project."
   ]
  },
  {
   "cell_type": "markdown",
   "metadata": {},
   "source": [
    "#### run the following command for cv2\n",
    "```\n",
    "apt-get -qq install -y libsm6 libxext6 && pip install -q -U opencv-python \n",
    "```"
   ]
  },
  {
   "cell_type": "code",
   "execution_count": 7,
   "metadata": {},
   "outputs": [
    {
     "name": "stdout",
     "output_type": "stream",
     "text": [
      "34799 97916 132715\n"
     ]
    }
   ],
   "source": [
    "### Preprocess the data here. It is required to normalize the data. Other preprocessing steps could include \n",
    "### converting to grayscale, etc.\n",
    "### Feel free to use as many code cells as needed.\n",
    "import cv2\n",
    "def addHsv(x):\n",
    "    return np.array([np.dstack((i,cv2.cvtColor(i,cv2.COLOR_RGB2HSV))) for i in x])\n",
    "\n",
    "def translateImg(x,pX,pY):\n",
    "    M = np.float32([[1,0,x.shape[0]*pX],[0,1,x.shape[0]*pY]])\n",
    "    res = cv2.warpAffine(x,M,(x.shape[0],x.shape[1]))\n",
    "    return res\n",
    "\n",
    "def rotateImg(x,theta):\n",
    "    cols = x.shape[0]\n",
    "    rows = x.shape[1]\n",
    "    M = cv2.getRotationMatrix2D((cols/2,rows/2),theta,1)\n",
    "    res = cv2.warpAffine(x,M,(cols,rows))\n",
    "    return res\n",
    "\n",
    "# Problem 1 - Implement Min-Max scaling for grayscale image data\n",
    "def normalize_img(image_data):\n",
    "    \"\"\"\n",
    "    Normalize the image data with Min-Max scaling to a range of [0.1, 0.9]\n",
    "    :param image_data: The image data to be normalized\n",
    "    :return: Normalized image data\n",
    "    \"\"\"\n",
    "    a = -1\n",
    "    b = 1\n",
    "    grayscale_min = 0\n",
    "    grayscale_max = 255\n",
    "    return a + ( ( (image_data - grayscale_min)*(b - a) )/( grayscale_max - grayscale_min ) )\n",
    "  \n",
    "#Add hsv colorspace information\n",
    "\n",
    "aug_img = []\n",
    "aug_lbl = []\n",
    "for x,l in zip(X_train, y_train):\n",
    "    if class_count[l] < 500:\n",
    "        aug_img.append(translateImg(x,0.10,0))\n",
    "        aug_img.append(translateImg(x,-0.10,0))\n",
    "        aug_img.append(translateImg(x,0,0.10))\n",
    "        aug_img.append(translateImg(x,0,-0.10))\n",
    "        aug_img.append(rotateImg(x,random.uniform(1,45)))\n",
    "        aug_img.append(rotateImg(x,random.uniform(-45,-1)))\n",
    "        aug_lbl.append(l)\n",
    "        aug_lbl.append(l)\n",
    "        aug_lbl.append(l)\n",
    "        aug_lbl.append(l)\n",
    "        aug_lbl.append(l)\n",
    "        aug_lbl.append(l)\n",
    "    elif class_count[l] < 1000:\n",
    "        aug_img.append(translateImg(x,random.uniform(-0.20,0.20),random.uniform(-0.20,0.20)))\n",
    "        aug_img.append(translateImg(x,random.uniform(-0.20,0.20),random.uniform(-0.20,0.20)))\n",
    "        aug_img.append(rotateImg(x,random.uniform(1,45)))\n",
    "        aug_img.append(rotateImg(x,random.uniform(-45,-1)))\n",
    "        aug_lbl.append(l)\n",
    "        aug_lbl.append(l)\n",
    "        aug_lbl.append(l)\n",
    "        aug_lbl.append(l)\n",
    "    elif class_count[l] < 2000:\n",
    "        aug_img.append(translateImg(x,random.uniform(-0.20,0.20),random.uniform(-0.20,0.20)))\n",
    "        aug_img.append(rotateImg(x,random.uniform(-20,20)))\n",
    "        aug_lbl.append(l)\n",
    "        aug_lbl.append(l)\n",
    "\n",
    "    \n",
    "print(len(X_train), len(aug_img), len(X_train) + len(aug_img))\n",
    "for x,l in zip(X_train, y_train):\n",
    "    aug_img.append(x)\n",
    "    aug_lbl.append(l)\n",
    "\n",
    "X_train = np.array(aug_img)\n",
    "y_train = np.array(aug_lbl)\n",
    "aug_img = None\n",
    "aug_lbl = None\n",
    "#X_train = addHsv(X_train)\n",
    "#X_valid = addHsv(X_valid)\n",
    "#X_test = addHsv(X_test)\n",
    "\n",
    "X_train = normalize_img(X_train)\n",
    "X_valid = normalize_img(X_valid)\n",
    "X_test = normalize_img(X_test)"
   ]
  },
  {
   "cell_type": "markdown",
   "metadata": {},
   "source": [
    "### Model Architecture"
   ]
  },
  {
   "cell_type": "code",
   "execution_count": 8,
   "metadata": {},
   "outputs": [
    {
     "name": "stdout",
     "output_type": "stream",
     "text": [
      "41\n"
     ]
    },
    {
     "data": {
      "text/plain": [
       "<matplotlib.figure.Figure at 0x7f990e728240>"
      ]
     },
     "metadata": {},
     "output_type": "display_data"
    }
   ],
   "source": [
    "### Define your architecture here.\n",
    "### Feel free to use as many code cells as needed.\n",
    "import random\n",
    "import numpy as np\n",
    "\n",
    "\n",
    "index = random.randint(0, len(X_train))\n",
    "image = X_train[index].squeeze()\n",
    "\n",
    "plt.figure(figsize=(1,1))\n",
    "#plt.imshow(image, cmap=\"gray\")\n",
    "print(y_train[index])\n",
    "\n",
    "from sklearn.utils import shuffle\n",
    "\n",
    "X_train, y_train = shuffle(X_train, y_train)\n",
    "\n",
    "import tensorflow as tf\n",
    "\n",
    "EPOCHS = 50\n",
    "BATCH_SIZE = 512\n",
    "KEEP_PROB = 0.75\n"
   ]
  },
  {
   "cell_type": "code",
   "execution_count": 9,
   "metadata": {
    "collapsed": true
   },
   "outputs": [],
   "source": [
    "from tensorflow.contrib.layers import flatten\n",
    "\n",
    "def LeNet(x):\n",
    "    # Arguments used for tf.truncated_normal, randomly defines variables for the weights and biases for each layer\n",
    "    mu = 0\n",
    "    sigma = 0.1\n",
    "    \n",
    "    # TODO: Layer 1: Convolutional. Input = 32x32x1. Output = 28x28x6.\n",
    "    FilterWeight1 = tf.Variable(tf.truncated_normal((5,5,3,6),mu,sigma))\n",
    "    FilterBias1 = tf.Variable(tf.zeros(6))\n",
    "    strides=[1,1,1,1]\n",
    "    padding=\"VALID\"\n",
    "    conv1 = tf.nn.conv2d(x, FilterWeight1, strides, padding)\n",
    "    conv1 = tf.nn.bias_add(conv1, FilterBias1)\n",
    "    \n",
    "    # TODO: Activation.\n",
    "    actv1 = tf.nn.relu(conv1)\n",
    "\n",
    "    # TODO: Pooling. Input = 28x28x6. Output = 14x14x6.\n",
    "    ksize = [1, 2, 2, 1]\n",
    "    strides = [1, 2, 2, 1]\n",
    "    padding = \"VALID\"\n",
    "    pool1 = tf.nn.max_pool(actv1, ksize, strides, padding)\n",
    "    \n",
    "    # TODO: Layer 2: Convolutional. Output = 10x10x16.\n",
    "    FilterWeight2 = tf.Variable(tf.truncated_normal((5,5,6,16),mu,sigma))\n",
    "    FilterBias2 = tf.Variable(tf.zeros(16))\n",
    "    strides = [1,1,1,1]\n",
    "    padding = \"VALID\"\n",
    "    conv2 = tf.nn.conv2d(pool1, FilterWeight2, strides, padding)\n",
    "    conv2 = tf.nn.bias_add(conv2, FilterBias2)\n",
    "    \n",
    "    # TODO: Activation.\n",
    "    actv2 = tf.nn.relu(conv2)\n",
    "    \n",
    "    # TODO: Pooling. Input = 10x10x16. Output = 5x5x16.\n",
    "    ksize = [1, 2, 2, 1]\n",
    "    strides = [1, 2, 2, 1]\n",
    "    padding = \"VALID\"\n",
    "    pool2 = tf.nn.max_pool(actv2, ksize, strides, padding)\n",
    "    \n",
    "    # TODO: Flatten. Input = 5x5x16. Output = 400.\n",
    "    flat_data = flatten(pool2)\n",
    "    #print(flat_data)\n",
    "    \n",
    "    # TODO: Layer 3: Fully Connected. Input = 400. Output = 120.\n",
    "    w1 = tf.Variable(tf.truncated_normal((400, 120),mu,sigma))\n",
    "    b1 = tf.Variable(tf.zeros(120))\n",
    "    fc1 = tf.add(tf.matmul(flat_data,w1),b1)\n",
    "    \n",
    "    # TODO: Activation.\n",
    "    fc1_act = tf.nn.relu(fc1)\n",
    "    \n",
    "    fc1_act = tf.nn.dropout(fc1_act, keep_prob)\n",
    "    \n",
    "    # TODO: Layer 4: Fully Connected. Input = 120. Output = 84.\n",
    "    w2 = tf.Variable(tf.truncated_normal((120, 84),mu,sigma))\n",
    "    b2 = tf.Variable(tf.zeros(84))\n",
    "    fc2 = tf.add(tf.matmul(fc1_act,w2),b2)\n",
    "    \n",
    "    # TODO: Activation.\n",
    "    fc2_act = tf.nn.relu(fc2)\n",
    "    \n",
    "    fc2_act = tf.nn.dropout(fc2_act, keep_prob)\n",
    "\n",
    "    # TODO: Layer 5: Fully Connected. Input = 84. Output = 10.\n",
    "    w3 = tf.Variable(tf.truncated_normal((84, n_classes),mu,sigma))\n",
    "    b3 = tf.Variable(tf.zeros(n_classes))\n",
    "    fc3 = tf.add(tf.matmul(fc2_act,w3),b3)\n",
    "\n",
    "    # TODO: Activation.\n",
    "    #logits = tf.nn.relu(fc3)\n",
    "    logits = fc3\n",
    "    return logits"
   ]
  },
  {
   "cell_type": "code",
   "execution_count": 10,
   "metadata": {
    "collapsed": true
   },
   "outputs": [],
   "source": [
    "\n",
    "\n",
    "def LeNetV2(x):\n",
    "    # Arguments used for tf.truncated_normal, randomly defines variables for the weights and biases for each layer\n",
    "    mu = 0\n",
    "    sigma = 0.1\n",
    "    \n",
    "    # TODO: Layer 1: Convolutional. Input = 32x32x1. Output = 28x28x6.\n",
    "    FilterWeight1 = tf.Variable(tf.truncated_normal((5,5,6,12),mu,sigma))\n",
    "    FilterBias1 = tf.Variable(tf.zeros(12))\n",
    "    strides=[1,1,1,1]\n",
    "    padding=\"VALID\"\n",
    "    conv1 = tf.nn.conv2d(x, FilterWeight1, strides, padding)\n",
    "    conv1 = tf.nn.bias_add(conv1, FilterBias1)\n",
    "    \n",
    "    # TODO: Activation.\n",
    "    actv1 = tf.nn.relu(conv1)\n",
    "\n",
    "    # TODO: Pooling. Input = 28x28x6. Output = 14x14x6.\n",
    "    ksize = [1, 2, 2, 1]\n",
    "    strides = [1, 2, 2, 1]\n",
    "    padding = \"VALID\"\n",
    "    pool1 = tf.nn.max_pool(actv1, ksize, strides, padding)\n",
    "    \n",
    "    # TODO: Layer 2: Convolutional. Output = 10x10x16.\n",
    "    FilterWeight2 = tf.Variable(tf.truncated_normal((5,5,12,22),mu,sigma))\n",
    "    FilterBias2 = tf.Variable(tf.zeros(22))\n",
    "    strides = [1,1,1,1]\n",
    "    padding = \"VALID\"\n",
    "    conv2 = tf.nn.conv2d(pool1, FilterWeight2, strides, padding)\n",
    "    conv2 = tf.nn.bias_add(conv2, FilterBias2)\n",
    "    \n",
    "    # TODO: Activation.\n",
    "    actv2 = tf.nn.relu(conv2)\n",
    "    \n",
    "    # TODO: Pooling. Input = 10x10x16. Output = 5x5x16.\n",
    "    ksize = [1, 2, 2, 1]\n",
    "    strides = [1, 2, 2, 1]\n",
    "    padding = \"VALID\"\n",
    "    pool2 = tf.nn.max_pool(actv2, ksize, strides, padding)\n",
    "    \n",
    "    # TODO: Flatten. Input = 5x5x16. Output = 400.\n",
    "    flat_data = flatten(pool2)\n",
    "    #print(flat_data)\n",
    "    \n",
    "    # TODO: Layer 3: Fully Connected. Input = 400. Output = 120.\n",
    "    w1 = tf.Variable(tf.truncated_normal((550, 200),mu,sigma))\n",
    "    b1 = tf.Variable(tf.zeros(200))\n",
    "    fc1 = tf.add(tf.matmul(flat_data,w1),b1)\n",
    "    \n",
    "    # TODO: Activation.\n",
    "    fc1_act = tf.nn.relu(fc1)\n",
    "    \n",
    "    fc1_act = tf.nn.dropout(fc1_act, keep_prob)\n",
    "    \n",
    "    # TODO: Layer 4: Fully Connected. Input = 120. Output = 84.\n",
    "    w2 = tf.Variable(tf.truncated_normal((200, 120),mu,sigma))\n",
    "    b2 = tf.Variable(tf.zeros(120))\n",
    "    fc2 = tf.add(tf.matmul(fc1_act,w2),b2)\n",
    "    \n",
    "    # TODO: Activation.\n",
    "    fc2_act = tf.nn.relu(fc2)\n",
    "    \n",
    "    fc2_act = tf.nn.dropout(fc2_act, keep_prob)\n",
    "\n",
    "    # TODO: Layer 5: Fully Connected. Input = 84. Output = 10.\n",
    "    w3 = tf.Variable(tf.truncated_normal((120, n_classes),mu,sigma))\n",
    "    b3 = tf.Variable(tf.zeros(n_classes))\n",
    "    fc3 = tf.add(tf.matmul(fc2_act,w3),b3)\n",
    "\n",
    "    # TODO: Activation.\n",
    "    #logits = tf.nn.relu(fc3)\n",
    "    logits = fc3\n",
    "    return logits\n",
    "  "
   ]
  },
  {
   "cell_type": "code",
   "execution_count": 11,
   "metadata": {},
   "outputs": [],
   "source": [
    "x = tf.placeholder(tf.float32, (None, 32, 32, 3))\n",
    "y = tf.placeholder(tf.int32, (None))\n",
    "keep_prob = tf.placeholder(tf.float32)\n",
    "one_hot_y = tf.one_hot(y, n_classes)\n",
    "\n",
    "rate = 0.001\n",
    "\n",
    "logits = LeNet(x)\n",
    "cross_entropy = tf.nn.softmax_cross_entropy_with_logits(labels=one_hot_y, logits=logits)\n",
    "loss_operation = tf.reduce_mean(cross_entropy)\n",
    "optimizer = tf.train.AdamOptimizer(learning_rate = rate)\n",
    "training_operation = optimizer.minimize(loss_operation)\n",
    "\n",
    "correct_prediction = tf.equal(tf.argmax(logits, 1), tf.argmax(one_hot_y, 1))\n",
    "accuracy_operation = tf.reduce_mean(tf.cast(correct_prediction, tf.float32))\n",
    "saver = tf.train.Saver()\n",
    "\n",
    "def evaluate(X_data, y_data):\n",
    "    num_examples = len(X_data)\n",
    "    total_accuracy = 0\n",
    "    sess = tf.get_default_session()\n",
    "    for offset in range(0, num_examples, BATCH_SIZE):\n",
    "        batch_x, batch_y = X_data[offset:offset+BATCH_SIZE], y_data[offset:offset+BATCH_SIZE]\n",
    "        accuracy = sess.run(accuracy_operation, feed_dict={x: batch_x, y: batch_y, keep_prob: KEEP_PROB})\n",
    "        total_accuracy += (accuracy * len(batch_x))\n",
    "    return total_accuracy / num_examples"
   ]
  },
  {
   "cell_type": "code",
   "execution_count": 12,
   "metadata": {},
   "outputs": [
    {
     "name": "stdout",
     "output_type": "stream",
     "text": [
      "Training...\n",
      "\n",
      "EPOCH 1 ...\n",
      "Training Accuracy = 0.285\n",
      "Validation Accuracy = 0.278\n",
      "\n",
      "EPOCH 2 ...\n",
      "Training Accuracy = 0.396\n",
      "Validation Accuracy = 0.365\n",
      "\n",
      "EPOCH 3 ...\n",
      "Training Accuracy = 0.459\n",
      "Validation Accuracy = 0.429\n",
      "\n",
      "EPOCH 4 ...\n",
      "Training Accuracy = 0.508\n",
      "Validation Accuracy = 0.481\n",
      "\n",
      "EPOCH 5 ...\n",
      "Training Accuracy = 0.545\n",
      "Validation Accuracy = 0.506\n",
      "\n",
      "EPOCH 6 ...\n",
      "Training Accuracy = 0.581\n",
      "Validation Accuracy = 0.535\n",
      "\n",
      "EPOCH 7 ...\n",
      "Training Accuracy = 0.600\n",
      "Validation Accuracy = 0.548\n",
      "\n",
      "EPOCH 8 ...\n",
      "Training Accuracy = 0.625\n",
      "Validation Accuracy = 0.569\n",
      "\n",
      "EPOCH 9 ...\n",
      "Training Accuracy = 0.637\n",
      "Validation Accuracy = 0.576\n",
      "\n",
      "EPOCH 10 ...\n",
      "Training Accuracy = 0.638\n",
      "Validation Accuracy = 0.587\n",
      "\n",
      "EPOCH 11 ...\n",
      "Training Accuracy = 0.672\n",
      "Validation Accuracy = 0.616\n",
      "\n",
      "EPOCH 12 ...\n",
      "Training Accuracy = 0.671\n",
      "Validation Accuracy = 0.620\n",
      "\n",
      "EPOCH 13 ...\n",
      "Training Accuracy = 0.687\n",
      "Validation Accuracy = 0.624\n",
      "\n",
      "EPOCH 14 ...\n",
      "Training Accuracy = 0.693\n",
      "Validation Accuracy = 0.634\n",
      "\n",
      "EPOCH 15 ...\n",
      "Training Accuracy = 0.702\n",
      "Validation Accuracy = 0.641\n",
      "\n",
      "EPOCH 16 ...\n",
      "Training Accuracy = 0.711\n",
      "Validation Accuracy = 0.644\n",
      "\n",
      "EPOCH 17 ...\n",
      "Training Accuracy = 0.713\n",
      "Validation Accuracy = 0.637\n",
      "\n",
      "EPOCH 18 ...\n",
      "Training Accuracy = 0.726\n",
      "Validation Accuracy = 0.644\n",
      "\n",
      "EPOCH 19 ...\n",
      "Training Accuracy = 0.730\n",
      "Validation Accuracy = 0.656\n",
      "\n",
      "EPOCH 20 ...\n",
      "Training Accuracy = 0.729\n",
      "Validation Accuracy = 0.650\n",
      "\n",
      "EPOCH 21 ...\n",
      "Training Accuracy = 0.740\n",
      "Validation Accuracy = 0.673\n",
      "\n",
      "EPOCH 22 ...\n",
      "Training Accuracy = 0.745\n",
      "Validation Accuracy = 0.672\n",
      "\n",
      "EPOCH 23 ...\n",
      "Training Accuracy = 0.751\n",
      "Validation Accuracy = 0.676\n",
      "\n",
      "EPOCH 24 ...\n",
      "Training Accuracy = 0.747\n",
      "Validation Accuracy = 0.665\n",
      "\n",
      "EPOCH 25 ...\n",
      "Training Accuracy = 0.740\n",
      "Validation Accuracy = 0.668\n",
      "\n",
      "EPOCH 26 ...\n",
      "Training Accuracy = 0.752\n",
      "Validation Accuracy = 0.684\n",
      "\n",
      "EPOCH 27 ...\n",
      "Training Accuracy = 0.766\n",
      "Validation Accuracy = 0.684\n",
      "\n",
      "EPOCH 28 ...\n",
      "Training Accuracy = 0.763\n",
      "Validation Accuracy = 0.685\n",
      "\n",
      "EPOCH 29 ...\n",
      "Training Accuracy = 0.768\n",
      "Validation Accuracy = 0.690\n",
      "\n",
      "EPOCH 30 ...\n",
      "Training Accuracy = 0.775\n",
      "Validation Accuracy = 0.700\n",
      "\n",
      "EPOCH 31 ...\n",
      "Training Accuracy = 0.773\n",
      "Validation Accuracy = 0.685\n",
      "\n",
      "EPOCH 32 ...\n",
      "Training Accuracy = 0.782\n",
      "Validation Accuracy = 0.694\n",
      "\n",
      "EPOCH 33 ...\n",
      "Training Accuracy = 0.780\n",
      "Validation Accuracy = 0.702\n",
      "\n",
      "EPOCH 34 ...\n",
      "Training Accuracy = 0.780\n",
      "Validation Accuracy = 0.703\n",
      "\n",
      "EPOCH 35 ...\n",
      "Training Accuracy = 0.780\n",
      "Validation Accuracy = 0.697\n",
      "\n",
      "EPOCH 36 ...\n",
      "Training Accuracy = 0.782\n",
      "Validation Accuracy = 0.705\n",
      "\n",
      "EPOCH 37 ...\n",
      "Training Accuracy = 0.787\n",
      "Validation Accuracy = 0.700\n",
      "\n",
      "EPOCH 38 ...\n",
      "Training Accuracy = 0.791\n",
      "Validation Accuracy = 0.701\n",
      "\n",
      "EPOCH 39 ...\n",
      "Training Accuracy = 0.789\n",
      "Validation Accuracy = 0.701\n",
      "\n",
      "EPOCH 40 ...\n",
      "Training Accuracy = 0.795\n",
      "Validation Accuracy = 0.707\n",
      "\n",
      "EPOCH 41 ...\n",
      "Training Accuracy = 0.795\n",
      "Validation Accuracy = 0.702\n",
      "\n",
      "EPOCH 42 ...\n",
      "Training Accuracy = 0.796\n",
      "Validation Accuracy = 0.715\n",
      "\n",
      "EPOCH 43 ...\n",
      "Training Accuracy = 0.798\n",
      "Validation Accuracy = 0.712\n",
      "\n",
      "EPOCH 44 ...\n",
      "Training Accuracy = 0.799\n",
      "Validation Accuracy = 0.712\n",
      "\n",
      "EPOCH 45 ...\n",
      "Training Accuracy = 0.805\n",
      "Validation Accuracy = 0.715\n",
      "\n",
      "EPOCH 46 ...\n",
      "Training Accuracy = 0.800\n",
      "Validation Accuracy = 0.708\n",
      "\n",
      "EPOCH 47 ...\n",
      "Training Accuracy = 0.799\n",
      "Validation Accuracy = 0.717\n",
      "\n",
      "EPOCH 48 ...\n",
      "Training Accuracy = 0.806\n",
      "Validation Accuracy = 0.714\n",
      "\n",
      "EPOCH 49 ...\n",
      "Training Accuracy = 0.806\n",
      "Validation Accuracy = 0.721\n",
      "\n",
      "EPOCH 50 ...\n",
      "Training Accuracy = 0.797\n",
      "Validation Accuracy = 0.707\n",
      "\n",
      "Model saved\n"
     ]
    }
   ],
   "source": [
    "with tf.Session() as sess:\n",
    "    sess.run(tf.global_variables_initializer())\n",
    "    num_examples = len(X_train)\n",
    "    \n",
    "    print(\"Training...\")\n",
    "    print()\n",
    "    for i in range(EPOCHS):\n",
    "        X_train, y_train = shuffle(X_train, y_train)\n",
    "        for offset in range(0, num_examples, BATCH_SIZE):\n",
    "            end = offset + BATCH_SIZE\n",
    "            batch_x, batch_y = X_train[offset:end], y_train[offset:end]\n",
    "            sess.run(training_operation, feed_dict={x: batch_x, y: batch_y, keep_prob: KEEP_PROB})\n",
    "            \n",
    "        validation_accuracy = evaluate(X_valid, y_valid)\n",
    "        training_accuracy = evaluate(X_train, y_train)\n",
    "        print(\"EPOCH {} ...\".format(i+1))\n",
    "        print(\"Training Accuracy = {:.3f}\".format(training_accuracy))\n",
    "        print(\"Validation Accuracy = {:.3f}\".format(validation_accuracy))\n",
    "        print()\n",
    "        \n",
    "    saver.save(sess, './lenet')\n",
    "    print(\"Model saved\")"
   ]
  },
  {
   "cell_type": "markdown",
   "metadata": {},
   "source": [
    "### Train, Validate and Test the Model"
   ]
  },
  {
   "cell_type": "markdown",
   "metadata": {},
   "source": [
    "A validation set can be used to assess how well the model is performing. A low accuracy on the training and validation\n",
    "sets imply underfitting. A high accuracy on the training set but low accuracy on the validation set implies overfitting."
   ]
  },
  {
   "cell_type": "code",
   "execution_count": 13,
   "metadata": {
    "collapsed": true
   },
   "outputs": [],
   "source": [
    "### Train your model here.\n",
    "### Calculate and report the accuracy on the training and validation set.\n",
    "### Once a final model architecture is selected, \n",
    "### the accuracy on the test set should be calculated and reported as well.\n",
    "### Feel free to use as many code cells as needed."
   ]
  },
  {
   "cell_type": "markdown",
   "metadata": {},
   "source": [
    "---\n",
    "\n",
    "## Step 3: Test a Model on New Images\n",
    "\n",
    "To give yourself more insight into how your model is working, download at least five pictures of German traffic signs from the web and use your model to predict the traffic sign type.\n",
    "\n",
    "You may find `signnames.csv` useful as it contains mappings from the class id (integer) to the actual sign name."
   ]
  },
  {
   "cell_type": "markdown",
   "metadata": {},
   "source": [
    "### Load and Output the Images"
   ]
  },
  {
   "cell_type": "code",
   "execution_count": 14,
   "metadata": {
    "collapsed": true
   },
   "outputs": [],
   "source": [
    "### Load the images and plot them here.\n",
    "### Feel free to use as many code cells as needed."
   ]
  },
  {
   "cell_type": "markdown",
   "metadata": {},
   "source": [
    "### Predict the Sign Type for Each Image"
   ]
  },
  {
   "cell_type": "code",
   "execution_count": 15,
   "metadata": {
    "collapsed": true
   },
   "outputs": [],
   "source": [
    "### Run the predictions here and use the model to output the prediction for each image.\n",
    "### Make sure to pre-process the images with the same pre-processing pipeline used earlier.\n",
    "### Feel free to use as many code cells as needed."
   ]
  },
  {
   "cell_type": "markdown",
   "metadata": {},
   "source": [
    "### Analyze Performance"
   ]
  },
  {
   "cell_type": "code",
   "execution_count": 16,
   "metadata": {
    "collapsed": true
   },
   "outputs": [],
   "source": [
    "### Calculate the accuracy for these 5 new images. \n",
    "### For example, if the model predicted 1 out of 5 signs correctly, it's 20% accurate on these new images."
   ]
  },
  {
   "cell_type": "markdown",
   "metadata": {},
   "source": [
    "### Output Top 5 Softmax Probabilities For Each Image Found on the Web"
   ]
  },
  {
   "cell_type": "markdown",
   "metadata": {},
   "source": [
    "For each of the new images, print out the model's softmax probabilities to show the **certainty** of the model's predictions (limit the output to the top 5 probabilities for each image). [`tf.nn.top_k`](https://www.tensorflow.org/versions/r0.12/api_docs/python/nn.html#top_k) could prove helpful here. \n",
    "\n",
    "The example below demonstrates how tf.nn.top_k can be used to find the top k predictions for each image.\n",
    "\n",
    "`tf.nn.top_k` will return the values and indices (class ids) of the top k predictions. So if k=3, for each sign, it'll return the 3 largest probabilities (out of a possible 43) and the correspoding class ids.\n",
    "\n",
    "Take this numpy array as an example. The values in the array represent predictions. The array contains softmax probabilities for five candidate images with six possible classes. `tf.nn.top_k` is used to choose the three classes with the highest probability:\n",
    "\n",
    "```\n",
    "# (5, 6) array\n",
    "a = np.array([[ 0.24879643,  0.07032244,  0.12641572,  0.34763842,  0.07893497,\n",
    "         0.12789202],\n",
    "       [ 0.28086119,  0.27569815,  0.08594638,  0.0178669 ,  0.18063401,\n",
    "         0.15899337],\n",
    "       [ 0.26076848,  0.23664738,  0.08020603,  0.07001922,  0.1134371 ,\n",
    "         0.23892179],\n",
    "       [ 0.11943333,  0.29198961,  0.02605103,  0.26234032,  0.1351348 ,\n",
    "         0.16505091],\n",
    "       [ 0.09561176,  0.34396535,  0.0643941 ,  0.16240774,  0.24206137,\n",
    "         0.09155967]])\n",
    "```\n",
    "\n",
    "Running it through `sess.run(tf.nn.top_k(tf.constant(a), k=3))` produces:\n",
    "\n",
    "```\n",
    "TopKV2(values=array([[ 0.34763842,  0.24879643,  0.12789202],\n",
    "       [ 0.28086119,  0.27569815,  0.18063401],\n",
    "       [ 0.26076848,  0.23892179,  0.23664738],\n",
    "       [ 0.29198961,  0.26234032,  0.16505091],\n",
    "       [ 0.34396535,  0.24206137,  0.16240774]]), indices=array([[3, 0, 5],\n",
    "       [0, 1, 4],\n",
    "       [0, 5, 1],\n",
    "       [1, 3, 5],\n",
    "       [1, 4, 3]], dtype=int32))\n",
    "```\n",
    "\n",
    "Looking just at the first row we get `[ 0.34763842,  0.24879643,  0.12789202]`, you can confirm these are the 3 largest probabilities in `a`. You'll also notice `[3, 0, 5]` are the corresponding indices."
   ]
  },
  {
   "cell_type": "code",
   "execution_count": 17,
   "metadata": {
    "collapsed": true
   },
   "outputs": [],
   "source": [
    "### Print out the top five softmax probabilities for the predictions on the German traffic sign images found on the web. \n",
    "### Feel free to use as many code cells as needed."
   ]
  },
  {
   "cell_type": "markdown",
   "metadata": {},
   "source": [
    "### Project Writeup\n",
    "\n",
    "Once you have completed the code implementation, document your results in a project writeup using this [template](https://github.com/udacity/CarND-Traffic-Sign-Classifier-Project/blob/master/writeup_template.md) as a guide. The writeup can be in a markdown or pdf file. "
   ]
  },
  {
   "cell_type": "markdown",
   "metadata": {},
   "source": [
    "> **Note**: Once you have completed all of the code implementations and successfully answered each question above, you may finalize your work by exporting the iPython Notebook as an HTML document. You can do this by using the menu above and navigating to  \\n\",\n",
    "    \"**File -> Download as -> HTML (.html)**. Include the finished document along with this notebook as your submission."
   ]
  },
  {
   "cell_type": "markdown",
   "metadata": {},
   "source": [
    "---\n",
    "\n",
    "## Step 4 (Optional): Visualize the Neural Network's State with Test Images\n",
    "\n",
    " This Section is not required to complete but acts as an additional excersise for understaning the output of a neural network's weights. While neural networks can be a great learning device they are often referred to as a black box. We can understand what the weights of a neural network look like better by plotting their feature maps. After successfully training your neural network you can see what it's feature maps look like by plotting the output of the network's weight layers in response to a test stimuli image. From these plotted feature maps, it's possible to see what characteristics of an image the network finds interesting. For a sign, maybe the inner network feature maps react with high activation to the sign's boundary outline or to the contrast in the sign's painted symbol.\n",
    "\n",
    " Provided for you below is the function code that allows you to get the visualization output of any tensorflow weight layer you want. The inputs to the function should be a stimuli image, one used during training or a new one you provided, and then the tensorflow variable name that represents the layer's state during the training process, for instance if you wanted to see what the [LeNet lab's](https://classroom.udacity.com/nanodegrees/nd013/parts/fbf77062-5703-404e-b60c-95b78b2f3f9e/modules/6df7ae49-c61c-4bb2-a23e-6527e69209ec/lessons/601ae704-1035-4287-8b11-e2c2716217ad/concepts/d4aca031-508f-4e0b-b493-e7b706120f81) feature maps looked like for it's second convolutional layer you could enter conv2 as the tf_activation variable.\n",
    "\n",
    "For an example of what feature map outputs look like, check out NVIDIA's results in their paper [End-to-End Deep Learning for Self-Driving Cars](https://devblogs.nvidia.com/parallelforall/deep-learning-self-driving-cars/) in the section Visualization of internal CNN State. NVIDIA was able to show that their network's inner weights had high activations to road boundary lines by comparing feature maps from an image with a clear path to one without. Try experimenting with a similar test to show that your trained network's weights are looking for interesting features, whether it's looking at differences in feature maps from images with or without a sign, or even what feature maps look like in a trained network vs a completely untrained one on the same sign image.\n",
    "\n",
    "<figure>\n",
    " <img src=\"visualize_cnn.png\" width=\"380\" alt=\"Combined Image\" />\n",
    " <figcaption>\n",
    " <p></p> \n",
    " <p style=\"text-align: center;\"> Your output should look something like this (above)</p> \n",
    " </figcaption>\n",
    "</figure>\n",
    " <p></p> \n"
   ]
  },
  {
   "cell_type": "code",
   "execution_count": 18,
   "metadata": {
    "collapsed": true
   },
   "outputs": [],
   "source": [
    "### Visualize your network's feature maps here.\n",
    "### Feel free to use as many code cells as needed.\n",
    "\n",
    "# image_input: the test image being fed into the network to produce the feature maps\n",
    "# tf_activation: should be a tf variable name used during your training procedure that represents the calculated state of a specific weight layer\n",
    "# activation_min/max: can be used to view the activation contrast in more detail, by default matplot sets min and max to the actual min and max values of the output\n",
    "# plt_num: used to plot out multiple different weight feature map sets on the same block, just extend the plt number for each new feature map entry\n",
    "\n",
    "def outputFeatureMap(image_input, tf_activation, activation_min=-1, activation_max=-1 ,plt_num=1):\n",
    "    # Here make sure to preprocess your image_input in a way your network expects\n",
    "    # with size, normalization, ect if needed\n",
    "    # image_input =\n",
    "    # Note: x should be the same name as your network's tensorflow data placeholder variable\n",
    "    # If you get an error tf_activation is not defined it may be having trouble accessing the variable from inside a function\n",
    "    activation = tf_activation.eval(session=sess,feed_dict={x : image_input})\n",
    "    featuremaps = activation.shape[3]\n",
    "    plt.figure(plt_num, figsize=(15,15))\n",
    "    for featuremap in range(featuremaps):\n",
    "        plt.subplot(6,8, featuremap+1) # sets the number of feature maps to show on each row and column\n",
    "        plt.title('FeatureMap ' + str(featuremap)) # displays the feature map number\n",
    "        if activation_min != -1 & activation_max != -1:\n",
    "            plt.imshow(activation[0,:,:, featuremap], interpolation=\"nearest\", vmin =activation_min, vmax=activation_max, cmap=\"gray\")\n",
    "        elif activation_max != -1:\n",
    "            plt.imshow(activation[0,:,:, featuremap], interpolation=\"nearest\", vmax=activation_max, cmap=\"gray\")\n",
    "        elif activation_min !=-1:\n",
    "            plt.imshow(activation[0,:,:, featuremap], interpolation=\"nearest\", vmin=activation_min, cmap=\"gray\")\n",
    "        else:\n",
    "            plt.imshow(activation[0,:,:, featuremap], interpolation=\"nearest\", cmap=\"gray\")"
   ]
  }
 ],
 "metadata": {
  "anaconda-cloud": {},
  "kernelspec": {
   "display_name": "Python 3",
   "language": "python",
   "name": "python3"
  },
  "language_info": {
   "codemirror_mode": {
    "name": "ipython",
    "version": 3
   },
   "file_extension": ".py",
   "mimetype": "text/x-python",
   "name": "python",
   "nbconvert_exporter": "python",
   "pygments_lexer": "ipython3",
   "version": "3.5.2"
  },
  "widgets": {
   "state": {},
   "version": "1.1.2"
  }
 },
 "nbformat": 4,
 "nbformat_minor": 1
}
